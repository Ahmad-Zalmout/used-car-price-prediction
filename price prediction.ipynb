{
 "cells": [
  {
   "cell_type": "markdown",
   "metadata": {},
   "source": [
    "# Used cars price prediction\n",
    "### Authored by Ahmad Zalmout\n"
   ]
  },
  {
   "cell_type": "markdown",
   "metadata": {},
   "source": [
    "## Abstract\n",
    "\n",
    "In this document, a dataset of used cars was used to predict the selling price of the car based on a selection of features, for instance, number of seats, distance travelled, engine size, and so on. <br>\n",
    "The dataset was collected from [Used Car Price Dataset](https://www.kaggle.com/datasets/rishabhkarn/used-car-dataset). The collection of the dataset is not clearly stated however, after some heavy research it was concluded that the data might be collected from an Indian cars selling [website](https://www.cardekho.com/). <br>\n",
    "\n",
    "The reasons being the following:\n",
    "1. The presense of a column \"Price(in lakhs)\" and that is an indian numbering system used to refer to large amounts and is usually related to the currency Rupees.\n",
    "2. Everytime a car in the dataset is searched online, it is found in this website mentioned having almost all the features present in the dataset.\n",
    "<br>\n",
    "\n",
    "In the document, regression models were used for predicting the price (in euro) after some heavy data cleaning."
   ]
  },
  {
   "cell_type": "markdown",
   "metadata": {},
   "source": [
    "## Introduction\n",
    "\n",
    "This document is intended as a project for a Data Science student to practice some data exploration techniques and the use of limited knowledge in ML models to try to predict prices of used cars as acurate as possible.<br>\n",
    "In this exercise, a number of ML regression models were used to examine which would produce better results than the other.<br>\n",
    "The models were exposed to tuning in order to achieve the required results."
   ]
  },
  {
   "cell_type": "markdown",
   "metadata": {},
   "source": [
    "## Data Preprocessing\n",
    "\n",
    "To work with ML models, a few steps are needed to prepare the data for prediction.\n",
    "The techniques used in this project are the following:\n",
    "\n",
    "1. Removing Redundant columns.\n",
    "2. Renaming misleading column name.\n",
    "3. Checking and removing \"NA\" values.\n",
    "4. Checking and removing duplicate values.\n",
    "5. Checking data consistency across each column.\n",
    "    1. Making sure categorical columns contain only categories.\n",
    "    2. Making sure numerical columns contain reasonable ranges of values.\n",
    "6. Exploratory data analysis."
   ]
  },
  {
   "cell_type": "code",
   "execution_count": 47,
   "metadata": {},
   "outputs": [
    {
     "data": {
      "text/html": [
       "        <script type=\"text/javascript\">\n",
       "        window.PlotlyConfig = {MathJaxConfig: 'local'};\n",
       "        if (window.MathJax && window.MathJax.Hub && window.MathJax.Hub.Config) {window.MathJax.Hub.Config({SVG: {font: \"STIX-Web\"}});}\n",
       "        if (typeof require !== 'undefined') {\n",
       "        require.undef(\"plotly\");\n",
       "        requirejs.config({\n",
       "            paths: {\n",
       "                'plotly': ['https://cdn.plot.ly/plotly-2.27.0.min']\n",
       "            }\n",
       "        });\n",
       "        require(['plotly'], function(Plotly) {\n",
       "            window._Plotly = Plotly;\n",
       "        });\n",
       "        }\n",
       "        </script>\n",
       "        "
      ]
     },
     "metadata": {},
     "output_type": "display_data"
    }
   ],
   "source": [
    "# Importing needed libraries\n",
    "\n",
    "import pandas as pd\n",
    "import numpy as np\n",
    "import matplotlib.pyplot as plt\n",
    "import seaborn as sns\n",
    "import plotly.graph_objects as go\n",
    "from sklearn.model_selection import train_test_split\n",
    "from sklearn.linear_model import LinearRegression\n",
    "from sklearn.preprocessing import StandardScaler, OneHotEncoder\n",
    "from sklearn.metrics import mean_squared_error, r2_score\n",
    "import category_encoders as ce\n",
    "from sklearn.feature_selection import SelectKBest, f_regression\n",
    "from sklearn.preprocessing import PolynomialFeatures\n",
    "import plotly.offline as pyo\n",
    "pyo.init_notebook_mode(connected=True)"
   ]
  },
  {
   "cell_type": "code",
   "execution_count": 2,
   "metadata": {},
   "outputs": [
    {
     "data": {
      "text/html": [
       "<div>\n",
       "<style scoped>\n",
       "    .dataframe tbody tr th:only-of-type {\n",
       "        vertical-align: middle;\n",
       "    }\n",
       "\n",
       "    .dataframe tbody tr th {\n",
       "        vertical-align: top;\n",
       "    }\n",
       "\n",
       "    .dataframe thead th {\n",
       "        text-align: right;\n",
       "    }\n",
       "</style>\n",
       "<table border=\"1\" class=\"dataframe\">\n",
       "  <thead>\n",
       "    <tr style=\"text-align: right;\">\n",
       "      <th></th>\n",
       "      <th>Unnamed: 0</th>\n",
       "      <th>car_name</th>\n",
       "      <th>registration_year</th>\n",
       "      <th>insurance_validity</th>\n",
       "      <th>fuel_type</th>\n",
       "      <th>seats</th>\n",
       "      <th>kms_driven</th>\n",
       "      <th>ownsership</th>\n",
       "      <th>transmission</th>\n",
       "      <th>manufacturing_year</th>\n",
       "      <th>mileage(kmpl)</th>\n",
       "      <th>engine(cc)</th>\n",
       "      <th>max_power(bhp)</th>\n",
       "      <th>torque(Nm)</th>\n",
       "      <th>price(in lakhs)</th>\n",
       "    </tr>\n",
       "  </thead>\n",
       "  <tbody>\n",
       "    <tr>\n",
       "      <th>0</th>\n",
       "      <td>0</td>\n",
       "      <td>2017 Mercedes-Benz S-Class S400</td>\n",
       "      <td>Jul-17</td>\n",
       "      <td>Comprehensive</td>\n",
       "      <td>Petrol</td>\n",
       "      <td>5</td>\n",
       "      <td>56000</td>\n",
       "      <td>First Owner</td>\n",
       "      <td>Automatic</td>\n",
       "      <td>2017</td>\n",
       "      <td>7.81</td>\n",
       "      <td>2996.0</td>\n",
       "      <td>2996.0</td>\n",
       "      <td>333.0</td>\n",
       "      <td>63.75</td>\n",
       "    </tr>\n",
       "    <tr>\n",
       "      <th>1</th>\n",
       "      <td>1</td>\n",
       "      <td>2020 Nissan Magnite Turbo CVT XV Premium Opt BSVI</td>\n",
       "      <td>Jan-21</td>\n",
       "      <td>Comprehensive</td>\n",
       "      <td>Petrol</td>\n",
       "      <td>5</td>\n",
       "      <td>30615</td>\n",
       "      <td>First Owner</td>\n",
       "      <td>Automatic</td>\n",
       "      <td>2020</td>\n",
       "      <td>17.40</td>\n",
       "      <td>999.0</td>\n",
       "      <td>999.0</td>\n",
       "      <td>9863.0</td>\n",
       "      <td>8.99</td>\n",
       "    </tr>\n",
       "    <tr>\n",
       "      <th>2</th>\n",
       "      <td>2</td>\n",
       "      <td>2018 BMW X1 sDrive 20d xLine</td>\n",
       "      <td>Sep-18</td>\n",
       "      <td>Comprehensive</td>\n",
       "      <td>Diesel</td>\n",
       "      <td>5</td>\n",
       "      <td>24000</td>\n",
       "      <td>First Owner</td>\n",
       "      <td>Automatic</td>\n",
       "      <td>2018</td>\n",
       "      <td>20.68</td>\n",
       "      <td>1995.0</td>\n",
       "      <td>1995.0</td>\n",
       "      <td>188.0</td>\n",
       "      <td>23.75</td>\n",
       "    </tr>\n",
       "    <tr>\n",
       "      <th>3</th>\n",
       "      <td>3</td>\n",
       "      <td>2019 Kia Seltos GTX Plus</td>\n",
       "      <td>Dec-19</td>\n",
       "      <td>Comprehensive</td>\n",
       "      <td>Petrol</td>\n",
       "      <td>5</td>\n",
       "      <td>18378</td>\n",
       "      <td>First Owner</td>\n",
       "      <td>Manual</td>\n",
       "      <td>2019</td>\n",
       "      <td>16.50</td>\n",
       "      <td>1353.0</td>\n",
       "      <td>1353.0</td>\n",
       "      <td>13808.0</td>\n",
       "      <td>13.56</td>\n",
       "    </tr>\n",
       "    <tr>\n",
       "      <th>4</th>\n",
       "      <td>4</td>\n",
       "      <td>2019 Skoda Superb LK 1.8 TSI AT</td>\n",
       "      <td>Aug-19</td>\n",
       "      <td>Comprehensive</td>\n",
       "      <td>Petrol</td>\n",
       "      <td>5</td>\n",
       "      <td>44900</td>\n",
       "      <td>First Owner</td>\n",
       "      <td>Automatic</td>\n",
       "      <td>2019</td>\n",
       "      <td>14.67</td>\n",
       "      <td>1798.0</td>\n",
       "      <td>1798.0</td>\n",
       "      <td>17746.0</td>\n",
       "      <td>24.00</td>\n",
       "    </tr>\n",
       "    <tr>\n",
       "      <th>...</th>\n",
       "      <td>...</td>\n",
       "      <td>...</td>\n",
       "      <td>...</td>\n",
       "      <td>...</td>\n",
       "      <td>...</td>\n",
       "      <td>...</td>\n",
       "      <td>...</td>\n",
       "      <td>...</td>\n",
       "      <td>...</td>\n",
       "      <td>...</td>\n",
       "      <td>...</td>\n",
       "      <td>...</td>\n",
       "      <td>...</td>\n",
       "      <td>...</td>\n",
       "      <td>...</td>\n",
       "    </tr>\n",
       "    <tr>\n",
       "      <th>1548</th>\n",
       "      <td>1548</td>\n",
       "      <td>2020 Hyundai Creta SX Opt Diesel AT BSVI</td>\n",
       "      <td>Aug-20</td>\n",
       "      <td>Comprehensive</td>\n",
       "      <td>Diesel</td>\n",
       "      <td>5</td>\n",
       "      <td>35000</td>\n",
       "      <td>First Owner</td>\n",
       "      <td>Automatic</td>\n",
       "      <td>2020</td>\n",
       "      <td>1493.00</td>\n",
       "      <td>11345.0</td>\n",
       "      <td>11345.0</td>\n",
       "      <td>250.0</td>\n",
       "      <td>17.41</td>\n",
       "    </tr>\n",
       "    <tr>\n",
       "      <th>1549</th>\n",
       "      <td>1549</td>\n",
       "      <td>2022 Renault KWID 1.0 RXL Opt BSVI</td>\n",
       "      <td>2022</td>\n",
       "      <td>Third Party insurance</td>\n",
       "      <td>Petrol</td>\n",
       "      <td>5</td>\n",
       "      <td>10000</td>\n",
       "      <td>999 cc</td>\n",
       "      <td>2022</td>\n",
       "      <td>Power Steering</td>\n",
       "      <td>999.00</td>\n",
       "      <td>6706.0</td>\n",
       "      <td>6706.0</td>\n",
       "      <td>91.0</td>\n",
       "      <td>3.98</td>\n",
       "    </tr>\n",
       "    <tr>\n",
       "      <th>1550</th>\n",
       "      <td>1550</td>\n",
       "      <td>2017 Honda WR-V i-VTEC S</td>\n",
       "      <td>Jun-17</td>\n",
       "      <td>Comprehensive</td>\n",
       "      <td>Petrol</td>\n",
       "      <td>5</td>\n",
       "      <td>49000</td>\n",
       "      <td>First Owner</td>\n",
       "      <td>Manual</td>\n",
       "      <td>2017</td>\n",
       "      <td>17.50</td>\n",
       "      <td>1199.0</td>\n",
       "      <td>1199.0</td>\n",
       "      <td>887.0</td>\n",
       "      <td>5.85</td>\n",
       "    </tr>\n",
       "    <tr>\n",
       "      <th>1551</th>\n",
       "      <td>1551</td>\n",
       "      <td>2018 Volkswagen Polo 1.0 MPI Comfortline</td>\n",
       "      <td>May-18</td>\n",
       "      <td>Comprehensive</td>\n",
       "      <td>Petrol</td>\n",
       "      <td>5</td>\n",
       "      <td>40000</td>\n",
       "      <td>Second Owner</td>\n",
       "      <td>Manual</td>\n",
       "      <td>2018</td>\n",
       "      <td>18.78</td>\n",
       "      <td>999.0</td>\n",
       "      <td>999.0</td>\n",
       "      <td>75.0</td>\n",
       "      <td>4.75</td>\n",
       "    </tr>\n",
       "    <tr>\n",
       "      <th>1552</th>\n",
       "      <td>1552</td>\n",
       "      <td>2018 Maruti Swift Dzire VXI</td>\n",
       "      <td>May-18</td>\n",
       "      <td>Comprehensive</td>\n",
       "      <td>Petrol</td>\n",
       "      <td>5</td>\n",
       "      <td>34756</td>\n",
       "      <td>First Owner</td>\n",
       "      <td>Manual</td>\n",
       "      <td>2018</td>\n",
       "      <td>20.85</td>\n",
       "      <td>1197.0</td>\n",
       "      <td>1197.0</td>\n",
       "      <td>8314.0</td>\n",
       "      <td>6.10</td>\n",
       "    </tr>\n",
       "  </tbody>\n",
       "</table>\n",
       "<p>1553 rows × 15 columns</p>\n",
       "</div>"
      ],
      "text/plain": [
       "      Unnamed: 0                                           car_name  \\\n",
       "0              0                    2017 Mercedes-Benz S-Class S400   \n",
       "1              1  2020 Nissan Magnite Turbo CVT XV Premium Opt BSVI   \n",
       "2              2                       2018 BMW X1 sDrive 20d xLine   \n",
       "3              3                           2019 Kia Seltos GTX Plus   \n",
       "4              4                    2019 Skoda Superb LK 1.8 TSI AT   \n",
       "...          ...                                                ...   \n",
       "1548        1548           2020 Hyundai Creta SX Opt Diesel AT BSVI   \n",
       "1549        1549                 2022 Renault KWID 1.0 RXL Opt BSVI   \n",
       "1550        1550                           2017 Honda WR-V i-VTEC S   \n",
       "1551        1551           2018 Volkswagen Polo 1.0 MPI Comfortline   \n",
       "1552        1552                        2018 Maruti Swift Dzire VXI   \n",
       "\n",
       "     registration_year     insurance_validity fuel_type  seats  kms_driven  \\\n",
       "0               Jul-17          Comprehensive    Petrol      5       56000   \n",
       "1               Jan-21          Comprehensive    Petrol      5       30615   \n",
       "2               Sep-18          Comprehensive    Diesel      5       24000   \n",
       "3               Dec-19          Comprehensive    Petrol      5       18378   \n",
       "4               Aug-19          Comprehensive    Petrol      5       44900   \n",
       "...                ...                    ...       ...    ...         ...   \n",
       "1548            Aug-20          Comprehensive    Diesel      5       35000   \n",
       "1549              2022  Third Party insurance    Petrol      5       10000   \n",
       "1550            Jun-17          Comprehensive    Petrol      5       49000   \n",
       "1551            May-18          Comprehensive    Petrol      5       40000   \n",
       "1552            May-18          Comprehensive    Petrol      5       34756   \n",
       "\n",
       "        ownsership transmission manufacturing_year  mileage(kmpl)  engine(cc)  \\\n",
       "0      First Owner    Automatic               2017           7.81      2996.0   \n",
       "1      First Owner    Automatic               2020          17.40       999.0   \n",
       "2      First Owner    Automatic               2018          20.68      1995.0   \n",
       "3      First Owner       Manual               2019          16.50      1353.0   \n",
       "4      First Owner    Automatic               2019          14.67      1798.0   \n",
       "...            ...          ...                ...            ...         ...   \n",
       "1548   First Owner    Automatic               2020        1493.00     11345.0   \n",
       "1549        999 cc         2022     Power Steering         999.00      6706.0   \n",
       "1550   First Owner       Manual               2017          17.50      1199.0   \n",
       "1551  Second Owner       Manual               2018          18.78       999.0   \n",
       "1552   First Owner       Manual               2018          20.85      1197.0   \n",
       "\n",
       "      max_power(bhp)  torque(Nm)  price(in lakhs)  \n",
       "0             2996.0       333.0            63.75  \n",
       "1              999.0      9863.0             8.99  \n",
       "2             1995.0       188.0            23.75  \n",
       "3             1353.0     13808.0            13.56  \n",
       "4             1798.0     17746.0            24.00  \n",
       "...              ...         ...              ...  \n",
       "1548         11345.0       250.0            17.41  \n",
       "1549          6706.0        91.0             3.98  \n",
       "1550          1199.0       887.0             5.85  \n",
       "1551           999.0        75.0             4.75  \n",
       "1552          1197.0      8314.0             6.10  \n",
       "\n",
       "[1553 rows x 15 columns]"
      ]
     },
     "execution_count": 2,
     "metadata": {},
     "output_type": "execute_result"
    }
   ],
   "source": [
    "# Reading the CSV file into a dataframe\n",
    "\n",
    "df = pd.read_csv(\"Used Car Dataset.csv\")\n",
    "df"
   ]
  },
  {
   "cell_type": "markdown",
   "metadata": {},
   "source": [
    "#### Removing Redundant columns and renaming misleading column name."
   ]
  },
  {
   "cell_type": "code",
   "execution_count": 3,
   "metadata": {},
   "outputs": [],
   "source": [
    "# Removing unnamed column as dataframe already has an index column\n",
    "df.drop(columns = 'Unnamed: 0', inplace = True)\n",
    "\n",
    "# removing column max_power(bhp) as it is a duplicate from column engine(cc)\n",
    "df.drop(columns = 'max_power(bhp)', axis = 1, inplace = True)\n",
    "\n",
    "# Renaming column\n",
    "df = df.rename(columns={'ownsership': 'ownership'})"
   ]
  },
  {
   "cell_type": "code",
   "execution_count": 4,
   "metadata": {},
   "outputs": [
    {
     "name": "stdout",
     "output_type": "stream",
     "text": [
      "<class 'pandas.core.frame.DataFrame'>\n",
      "RangeIndex: 1553 entries, 0 to 1552\n",
      "Data columns (total 13 columns):\n",
      " #   Column              Non-Null Count  Dtype  \n",
      "---  ------              --------------  -----  \n",
      " 0   car_name            1553 non-null   object \n",
      " 1   registration_year   1553 non-null   object \n",
      " 2   insurance_validity  1553 non-null   object \n",
      " 3   fuel_type           1553 non-null   object \n",
      " 4   seats               1553 non-null   int64  \n",
      " 5   kms_driven          1553 non-null   int64  \n",
      " 6   ownership           1553 non-null   object \n",
      " 7   transmission        1553 non-null   object \n",
      " 8   manufacturing_year  1553 non-null   object \n",
      " 9   mileage(kmpl)       1550 non-null   float64\n",
      " 10  engine(cc)          1550 non-null   float64\n",
      " 11  torque(Nm)          1549 non-null   float64\n",
      " 12  price(in lakhs)     1553 non-null   float64\n",
      "dtypes: float64(4), int64(2), object(7)\n",
      "memory usage: 157.9+ KB\n"
     ]
    }
   ],
   "source": [
    "# Showing information about the data\n",
    "df.info()"
   ]
  },
  {
   "cell_type": "markdown",
   "metadata": {},
   "source": [
    "#### Checking and removing \"NA\" values."
   ]
  },
  {
   "cell_type": "markdown",
   "metadata": {},
   "source": [
    "It seams that there are missing data in the columns: mileage(kmpl), engine(cc), max_power(bhp), torque(Nm)"
   ]
  },
  {
   "cell_type": "code",
   "execution_count": 5,
   "metadata": {},
   "outputs": [
    {
     "data": {
      "text/plain": [
       "3"
      ]
     },
     "execution_count": 5,
     "metadata": {},
     "output_type": "execute_result"
    }
   ],
   "source": [
    "# Calculating sum of na values if any\n",
    "df['mileage(kmpl)'].isna().sum()"
   ]
  },
  {
   "cell_type": "code",
   "execution_count": 6,
   "metadata": {},
   "outputs": [],
   "source": [
    "# Removing na values\n",
    "df.dropna(inplace = True)"
   ]
  },
  {
   "cell_type": "code",
   "execution_count": 7,
   "metadata": {},
   "outputs": [
    {
     "name": "stdout",
     "output_type": "stream",
     "text": [
      "<class 'pandas.core.frame.DataFrame'>\n",
      "Index: 1549 entries, 0 to 1552\n",
      "Data columns (total 13 columns):\n",
      " #   Column              Non-Null Count  Dtype  \n",
      "---  ------              --------------  -----  \n",
      " 0   car_name            1549 non-null   object \n",
      " 1   registration_year   1549 non-null   object \n",
      " 2   insurance_validity  1549 non-null   object \n",
      " 3   fuel_type           1549 non-null   object \n",
      " 4   seats               1549 non-null   int64  \n",
      " 5   kms_driven          1549 non-null   int64  \n",
      " 6   ownership           1549 non-null   object \n",
      " 7   transmission        1549 non-null   object \n",
      " 8   manufacturing_year  1549 non-null   object \n",
      " 9   mileage(kmpl)       1549 non-null   float64\n",
      " 10  engine(cc)          1549 non-null   float64\n",
      " 11  torque(Nm)          1549 non-null   float64\n",
      " 12  price(in lakhs)     1549 non-null   float64\n",
      "dtypes: float64(4), int64(2), object(7)\n",
      "memory usage: 169.4+ KB\n"
     ]
    }
   ],
   "source": [
    "# making sure na values are removed from all columns\n",
    "df.info()"
   ]
  },
  {
   "cell_type": "markdown",
   "metadata": {},
   "source": [
    "#### Checking and removing duplicate values."
   ]
  },
  {
   "cell_type": "code",
   "execution_count": 8,
   "metadata": {},
   "outputs": [
    {
     "data": {
      "text/plain": [
       "419"
      ]
     },
     "execution_count": 8,
     "metadata": {},
     "output_type": "execute_result"
    }
   ],
   "source": [
    "# Checking for duplicates\n",
    "df.duplicated().sum()"
   ]
  },
  {
   "cell_type": "code",
   "execution_count": 9,
   "metadata": {},
   "outputs": [],
   "source": [
    "# Removing duplicates\n",
    "df = df.loc[~df.duplicated()].reset_index(drop = True)"
   ]
  },
  {
   "cell_type": "code",
   "execution_count": 10,
   "metadata": {},
   "outputs": [
    {
     "name": "stdout",
     "output_type": "stream",
     "text": [
      "<class 'pandas.core.frame.DataFrame'>\n",
      "RangeIndex: 1130 entries, 0 to 1129\n",
      "Data columns (total 13 columns):\n",
      " #   Column              Non-Null Count  Dtype  \n",
      "---  ------              --------------  -----  \n",
      " 0   car_name            1130 non-null   object \n",
      " 1   registration_year   1130 non-null   object \n",
      " 2   insurance_validity  1130 non-null   object \n",
      " 3   fuel_type           1130 non-null   object \n",
      " 4   seats               1130 non-null   int64  \n",
      " 5   kms_driven          1130 non-null   int64  \n",
      " 6   ownership           1130 non-null   object \n",
      " 7   transmission        1130 non-null   object \n",
      " 8   manufacturing_year  1130 non-null   object \n",
      " 9   mileage(kmpl)       1130 non-null   float64\n",
      " 10  engine(cc)          1130 non-null   float64\n",
      " 11  torque(Nm)          1130 non-null   float64\n",
      " 12  price(in lakhs)     1130 non-null   float64\n",
      "dtypes: float64(4), int64(2), object(7)\n",
      "memory usage: 114.9+ KB\n"
     ]
    }
   ],
   "source": [
    "# Checking number of rows in each column after removing duplicates\n",
    "df.info()"
   ]
  },
  {
   "cell_type": "markdown",
   "metadata": {},
   "source": [
    "#### Checking data consistency across each column.\n",
    "    - Making sure categorical columns contain only categories.\n",
    "    - Making sure numerical columns contain reasonable ranges of values."
   ]
  },
  {
   "cell_type": "code",
   "execution_count": 11,
   "metadata": {},
   "outputs": [
    {
     "data": {
      "text/plain": [
       "ownership\n",
       "First Owner     919\n",
       "Second Owner    167\n",
       "Third Owner      18\n",
       "1995 cc           5\n",
       "998 cc            2\n",
       "999 cc            2\n",
       "1498 cc           2\n",
       "Fifth Owner       1\n",
       "2999 cc           1\n",
       "1984 cc           1\n",
       "1197 cc           1\n",
       "1248 cc           1\n",
       "1199 cc           1\n",
       "1996 cc           1\n",
       "2013              1\n",
       "1950 cc           1\n",
       "1497 cc           1\n",
       "1998 cc           1\n",
       "1451 cc           1\n",
       "1461 cc           1\n",
       "2993 cc           1\n",
       "1968 cc           1\n",
       "Name: count, dtype: int64"
      ]
     },
     "execution_count": 11,
     "metadata": {},
     "output_type": "execute_result"
    }
   ],
   "source": [
    "# Displaying uniques values with thier count in column ownership.\n",
    "df['ownership'].value_counts()"
   ]
  },
  {
   "cell_type": "markdown",
   "metadata": {},
   "source": [
    "It apears to be there are misleading values. It might be misplacement error, but since they are low in number they will be removed."
   ]
  },
  {
   "cell_type": "code",
   "execution_count": 12,
   "metadata": {},
   "outputs": [
    {
     "name": "stderr",
     "output_type": "stream",
     "text": [
      "C:\\Users\\ahmad\\AppData\\Local\\Temp\\ipykernel_8544\\1774476853.py:2: UserWarning: This pattern is interpreted as a regular expression, and has match groups. To actually get the groups, use str.extract.\n",
      "  garbage_data = df[df['ownership'].str.contains('^(1|2|9)')].index.to_list()\n"
     ]
    }
   ],
   "source": [
    "# Removing misleading values.\n",
    "garbage_data = df[df['ownership'].str.contains('^(1|2|9)')].index.to_list()\n",
    "df.drop(garbage_data, inplace = True)\n",
    "df.reset_index(drop = True, inplace = True)"
   ]
  },
  {
   "cell_type": "code",
   "execution_count": 13,
   "metadata": {},
   "outputs": [
    {
     "data": {
      "text/plain": [
       "ownership\n",
       "First Owner     919\n",
       "Second Owner    167\n",
       "Third Owner      18\n",
       "Fifth Owner       1\n",
       "Name: count, dtype: int64"
      ]
     },
     "execution_count": 13,
     "metadata": {},
     "output_type": "execute_result"
    }
   ],
   "source": [
    "# Making sure changes took place.\n",
    "df['ownership'].value_counts()"
   ]
  },
  {
   "cell_type": "code",
   "execution_count": 14,
   "metadata": {},
   "outputs": [
    {
     "data": {
      "text/plain": [
       "transmission\n",
       "Manual       644\n",
       "Automatic    461\n",
       "Name: count, dtype: int64"
      ]
     },
     "execution_count": 14,
     "metadata": {},
     "output_type": "execute_result"
    }
   ],
   "source": [
    "# Displaying unique values with thier count in  column transmission.\n",
    "df['transmission'].value_counts()"
   ]
  },
  {
   "cell_type": "markdown",
   "metadata": {},
   "source": [
    "This column looks clean"
   ]
  },
  {
   "cell_type": "code",
   "execution_count": 15,
   "metadata": {},
   "outputs": [
    {
     "data": {
      "text/plain": [
       "manufacturing_year\n",
       "2018    172\n",
       "2017    134\n",
       "2019    133\n",
       "2016    101\n",
       "2015     98\n",
       "2020     94\n",
       "2021     88\n",
       "2014     79\n",
       "2022     65\n",
       "2013     40\n",
       "2012     35\n",
       "2023     22\n",
       "2011     19\n",
       "2010     15\n",
       "2009      9\n",
       "2007      1\n",
       "Name: count, dtype: int64"
      ]
     },
     "execution_count": 15,
     "metadata": {},
     "output_type": "execute_result"
    }
   ],
   "source": [
    "# Displaying unique values with their count in  column manufacturing year.\n",
    "df['manufacturing_year'].value_counts()"
   ]
  },
  {
   "cell_type": "markdown",
   "metadata": {},
   "source": [
    "This column is clean"
   ]
  },
  {
   "cell_type": "code",
   "execution_count": 16,
   "metadata": {},
   "outputs": [
    {
     "data": {
      "text/plain": [
       "seats\n",
       "5    973\n",
       "7    106\n",
       "4     14\n",
       "6     10\n",
       "8      2\n",
       "Name: count, dtype: int64"
      ]
     },
     "execution_count": 16,
     "metadata": {},
     "output_type": "execute_result"
    }
   ],
   "source": [
    "# Displaying unique values with their count in column seats.\n",
    "df['seats'].value_counts()"
   ]
  },
  {
   "cell_type": "markdown",
   "metadata": {},
   "source": [
    "This column is clean"
   ]
  },
  {
   "cell_type": "code",
   "execution_count": 17,
   "metadata": {},
   "outputs": [
    {
     "data": {
      "text/plain": [
       "fuel_type\n",
       "Petrol    738\n",
       "Diesel    350\n",
       "CNG        17\n",
       "Name: count, dtype: int64"
      ]
     },
     "execution_count": 17,
     "metadata": {},
     "output_type": "execute_result"
    }
   ],
   "source": [
    "# Displaying unique values with their count in column fuel type.\n",
    "df['fuel_type'].value_counts()"
   ]
  },
  {
   "cell_type": "markdown",
   "metadata": {},
   "source": [
    "This column is clean"
   ]
  },
  {
   "cell_type": "code",
   "execution_count": 18,
   "metadata": {},
   "outputs": [
    {
     "data": {
      "text/plain": [
       "insurance_validity\n",
       "Comprehensive            788\n",
       "Third Party insurance    209\n",
       "Third Party               56\n",
       "Zero Dep                  51\n",
       "Not Available              1\n",
       "Name: count, dtype: int64"
      ]
     },
     "execution_count": 18,
     "metadata": {},
     "output_type": "execute_result"
    }
   ],
   "source": [
    "# Displaying unique values with thier count in column insurance validity.\n",
    "df['insurance_validity'].value_counts()"
   ]
  },
  {
   "cell_type": "code",
   "execution_count": 19,
   "metadata": {},
   "outputs": [
    {
     "name": "stderr",
     "output_type": "stream",
     "text": [
      "C:\\Users\\ahmad\\AppData\\Local\\Temp\\ipykernel_8544\\1205596396.py:2: SettingWithCopyWarning: \n",
      "A value is trying to be set on a copy of a slice from a DataFrame\n",
      "\n",
      "See the caveats in the documentation: https://pandas.pydata.org/pandas-docs/stable/user_guide/indexing.html#returning-a-view-versus-a-copy\n",
      "  df['insurance_validity'][df['insurance_validity'] == \"Third Party insurance\"] = \"Third Party\"\n"
     ]
    }
   ],
   "source": [
    "# Fixing labeling error\n",
    "df['insurance_validity'][df['insurance_validity'] == \"Third Party insurance\"] = \"Third Party\"\n",
    "\n",
    "# Removing \"Not available\" row\n",
    "df.drop(index = df[df['insurance_validity'] == 'Not Available'].index, inplace = True)\n",
    "df.reset_index(drop = True, inplace = True)"
   ]
  },
  {
   "cell_type": "code",
   "execution_count": 20,
   "metadata": {},
   "outputs": [
    {
     "name": "stdout",
     "output_type": "stream",
     "text": [
      "<class 'pandas.core.frame.DataFrame'>\n",
      "RangeIndex: 1104 entries, 0 to 1103\n",
      "Data columns (total 13 columns):\n",
      " #   Column              Non-Null Count  Dtype  \n",
      "---  ------              --------------  -----  \n",
      " 0   car_name            1104 non-null   object \n",
      " 1   registration_year   1104 non-null   object \n",
      " 2   insurance_validity  1104 non-null   object \n",
      " 3   fuel_type           1104 non-null   object \n",
      " 4   seats               1104 non-null   int64  \n",
      " 5   kms_driven          1104 non-null   int64  \n",
      " 6   ownership           1104 non-null   object \n",
      " 7   transmission        1104 non-null   object \n",
      " 8   manufacturing_year  1104 non-null   object \n",
      " 9   mileage(kmpl)       1104 non-null   float64\n",
      " 10  engine(cc)          1104 non-null   float64\n",
      " 11  torque(Nm)          1104 non-null   float64\n",
      " 12  price(in lakhs)     1104 non-null   float64\n",
      "dtypes: float64(4), int64(2), object(7)\n",
      "memory usage: 112.3+ KB\n"
     ]
    }
   ],
   "source": [
    "df.info()"
   ]
  },
  {
   "cell_type": "markdown",
   "metadata": {},
   "source": [
    "Data set looks good so far"
   ]
  },
  {
   "cell_type": "code",
   "execution_count": 21,
   "metadata": {},
   "outputs": [
    {
     "data": {
      "text/html": [
       "<div>\n",
       "<style scoped>\n",
       "    .dataframe tbody tr th:only-of-type {\n",
       "        vertical-align: middle;\n",
       "    }\n",
       "\n",
       "    .dataframe tbody tr th {\n",
       "        vertical-align: top;\n",
       "    }\n",
       "\n",
       "    .dataframe thead th {\n",
       "        text-align: right;\n",
       "    }\n",
       "</style>\n",
       "<table border=\"1\" class=\"dataframe\">\n",
       "  <thead>\n",
       "    <tr style=\"text-align: right;\">\n",
       "      <th></th>\n",
       "      <th>seats</th>\n",
       "      <th>kms_driven</th>\n",
       "      <th>mileage(kmpl)</th>\n",
       "      <th>engine(cc)</th>\n",
       "      <th>torque(Nm)</th>\n",
       "      <th>price(in lakhs)</th>\n",
       "    </tr>\n",
       "  </thead>\n",
       "  <tbody>\n",
       "    <tr>\n",
       "      <th>count</th>\n",
       "      <td>1104.000000</td>\n",
       "      <td>1104.000000</td>\n",
       "      <td>1104.000000</td>\n",
       "      <td>1.104000e+03</td>\n",
       "      <td>1.104000e+03</td>\n",
       "      <td>1104.000000</td>\n",
       "    </tr>\n",
       "    <tr>\n",
       "      <th>mean</th>\n",
       "      <td>5.193841</td>\n",
       "      <td>53281.646739</td>\n",
       "      <td>190.757627</td>\n",
       "      <td>1.180817e+10</td>\n",
       "      <td>1.341639e+04</td>\n",
       "      <td>163.163207</td>\n",
       "    </tr>\n",
       "    <tr>\n",
       "      <th>std</th>\n",
       "      <td>0.620384</td>\n",
       "      <td>43351.243256</td>\n",
       "      <td>515.267289</td>\n",
       "      <td>1.958801e+11</td>\n",
       "      <td>8.617023e+04</td>\n",
       "      <td>3549.435857</td>\n",
       "    </tr>\n",
       "    <tr>\n",
       "      <th>min</th>\n",
       "      <td>4.000000</td>\n",
       "      <td>620.000000</td>\n",
       "      <td>7.810000</td>\n",
       "      <td>6.700000e+01</td>\n",
       "      <td>1.900000e+01</td>\n",
       "      <td>1.000000</td>\n",
       "    </tr>\n",
       "    <tr>\n",
       "      <th>25%</th>\n",
       "      <td>5.000000</td>\n",
       "      <td>30000.000000</td>\n",
       "      <td>16.500000</td>\n",
       "      <td>1.197000e+03</td>\n",
       "      <td>5.075000e+02</td>\n",
       "      <td>4.500000</td>\n",
       "    </tr>\n",
       "    <tr>\n",
       "      <th>50%</th>\n",
       "      <td>5.000000</td>\n",
       "      <td>49000.000000</td>\n",
       "      <td>18.900000</td>\n",
       "      <td>1.461000e+03</td>\n",
       "      <td>1.213000e+03</td>\n",
       "      <td>6.750000</td>\n",
       "    </tr>\n",
       "    <tr>\n",
       "      <th>75%</th>\n",
       "      <td>5.000000</td>\n",
       "      <td>70000.000000</td>\n",
       "      <td>21.900000</td>\n",
       "      <td>1.991000e+03</td>\n",
       "      <td>8.855750e+03</td>\n",
       "      <td>14.257500</td>\n",
       "    </tr>\n",
       "    <tr>\n",
       "      <th>max</th>\n",
       "      <td>8.000000</td>\n",
       "      <td>810000.000000</td>\n",
       "      <td>3996.000000</td>\n",
       "      <td>3.258640e+12</td>\n",
       "      <td>1.186600e+06</td>\n",
       "      <td>95000.000000</td>\n",
       "    </tr>\n",
       "  </tbody>\n",
       "</table>\n",
       "</div>"
      ],
      "text/plain": [
       "             seats     kms_driven  mileage(kmpl)    engine(cc)    torque(Nm)  \\\n",
       "count  1104.000000    1104.000000    1104.000000  1.104000e+03  1.104000e+03   \n",
       "mean      5.193841   53281.646739     190.757627  1.180817e+10  1.341639e+04   \n",
       "std       0.620384   43351.243256     515.267289  1.958801e+11  8.617023e+04   \n",
       "min       4.000000     620.000000       7.810000  6.700000e+01  1.900000e+01   \n",
       "25%       5.000000   30000.000000      16.500000  1.197000e+03  5.075000e+02   \n",
       "50%       5.000000   49000.000000      18.900000  1.461000e+03  1.213000e+03   \n",
       "75%       5.000000   70000.000000      21.900000  1.991000e+03  8.855750e+03   \n",
       "max       8.000000  810000.000000    3996.000000  3.258640e+12  1.186600e+06   \n",
       "\n",
       "       price(in lakhs)  \n",
       "count      1104.000000  \n",
       "mean        163.163207  \n",
       "std        3549.435857  \n",
       "min           1.000000  \n",
       "25%           4.500000  \n",
       "50%           6.750000  \n",
       "75%          14.257500  \n",
       "max       95000.000000  "
      ]
     },
     "execution_count": 21,
     "metadata": {},
     "output_type": "execute_result"
    }
   ],
   "source": [
    "df.describe()"
   ]
  },
  {
   "cell_type": "markdown",
   "metadata": {},
   "source": [
    "As shown above, there are a lot of values that are out of context, for instance, the max value of the column engine is 3.258640e+12, aLso, torque values are extremely high.\n",
    "\n",
    "When it comes to the price, it might be confusing for some as it is in lakhs, which is in indian numbering system which translates to 100,000. And as mentioned earlier usually this is associated with the currency Rupees. On the other hand, a car cannot possibly cost 9,500,000,000 Rupees or 104,569,248.82 Euros! Especially after inspecting it which turned out to be a really humble car.\n",
    "\n",
    "In addition, the mean in all the above columns except of \"seats\" is much higher than the median. Suggesting positive sknewness. "
   ]
  },
  {
   "cell_type": "code",
   "execution_count": 22,
   "metadata": {},
   "outputs": [
    {
     "data": {
      "text/html": [
       "<div>\n",
       "<style scoped>\n",
       "    .dataframe tbody tr th:only-of-type {\n",
       "        vertical-align: middle;\n",
       "    }\n",
       "\n",
       "    .dataframe tbody tr th {\n",
       "        vertical-align: top;\n",
       "    }\n",
       "\n",
       "    .dataframe thead th {\n",
       "        text-align: right;\n",
       "    }\n",
       "</style>\n",
       "<table border=\"1\" class=\"dataframe\">\n",
       "  <thead>\n",
       "    <tr style=\"text-align: right;\">\n",
       "      <th></th>\n",
       "      <th>car_name</th>\n",
       "      <th>price(in lakhs)</th>\n",
       "    </tr>\n",
       "  </thead>\n",
       "  <tbody>\n",
       "    <tr>\n",
       "      <th>843</th>\n",
       "      <td>2009 Maruti Alto 800 LXi</td>\n",
       "      <td>95000.00</td>\n",
       "    </tr>\n",
       "    <tr>\n",
       "      <th>111</th>\n",
       "      <td>2011 Ford Figo Petrol EXI</td>\n",
       "      <td>70000.00</td>\n",
       "    </tr>\n",
       "    <tr>\n",
       "      <th>1052</th>\n",
       "      <td>2019 BMW X7 xDrive 40i M Sport</td>\n",
       "      <td>99.00</td>\n",
       "    </tr>\n",
       "    <tr>\n",
       "      <th>284</th>\n",
       "      <td>2020 BMW X7 xDrive30d DPE Signature</td>\n",
       "      <td>98.50</td>\n",
       "    </tr>\n",
       "    <tr>\n",
       "      <th>136</th>\n",
       "      <td>2016 Mercedes-Benz S-Class Maybach S500</td>\n",
       "      <td>98.50</td>\n",
       "    </tr>\n",
       "    <tr>\n",
       "      <th>...</th>\n",
       "      <td>...</td>\n",
       "      <td>...</td>\n",
       "    </tr>\n",
       "    <tr>\n",
       "      <th>238</th>\n",
       "      <td>2019 Land Rover Range Rover Sport 2.0 Petrol SE</td>\n",
       "      <td>1.10</td>\n",
       "    </tr>\n",
       "    <tr>\n",
       "      <th>269</th>\n",
       "      <td>2018 Mercedes-Benz S-Class Maybach S500</td>\n",
       "      <td>1.09</td>\n",
       "    </tr>\n",
       "    <tr>\n",
       "      <th>531</th>\n",
       "      <td>2021 Mercedes-Benz GLS 400d 4MATIC BSVI</td>\n",
       "      <td>1.06</td>\n",
       "    </tr>\n",
       "    <tr>\n",
       "      <th>862</th>\n",
       "      <td>2019 Porsche Cayenne Base</td>\n",
       "      <td>1.05</td>\n",
       "    </tr>\n",
       "    <tr>\n",
       "      <th>678</th>\n",
       "      <td>2010 Fiat Punto 1.3 Emotion</td>\n",
       "      <td>1.00</td>\n",
       "    </tr>\n",
       "  </tbody>\n",
       "</table>\n",
       "<p>1104 rows × 2 columns</p>\n",
       "</div>"
      ],
      "text/plain": [
       "                                             car_name  price(in lakhs)\n",
       "843                          2009 Maruti Alto 800 LXi         95000.00\n",
       "111                         2011 Ford Figo Petrol EXI         70000.00\n",
       "1052                   2019 BMW X7 xDrive 40i M Sport            99.00\n",
       "284               2020 BMW X7 xDrive30d DPE Signature            98.50\n",
       "136           2016 Mercedes-Benz S-Class Maybach S500            98.50\n",
       "...                                               ...              ...\n",
       "238   2019 Land Rover Range Rover Sport 2.0 Petrol SE             1.10\n",
       "269           2018 Mercedes-Benz S-Class Maybach S500             1.09\n",
       "531           2021 Mercedes-Benz GLS 400d 4MATIC BSVI             1.06\n",
       "862                         2019 Porsche Cayenne Base             1.05\n",
       "678                       2010 Fiat Punto 1.3 Emotion             1.00\n",
       "\n",
       "[1104 rows x 2 columns]"
      ]
     },
     "execution_count": 22,
     "metadata": {},
     "output_type": "execute_result"
    }
   ],
   "source": [
    "# Displaying the values in the data set sorted accourding to the price\n",
    "df[['car_name', 'price(in lakhs)']].sort_values(by = 'price(in lakhs)', ascending = False)"
   ]
  },
  {
   "cell_type": "markdown",
   "metadata": {},
   "source": [
    "The \"price(in lakhs)\" column have extremely large values. But it turns out that only 2 entries are misleading, and only needed lowering the number of extra zeros. \n",
    "\n",
    "This was double checked from the [website](https://www.cardekho.com/) the data is taken from."
   ]
  },
  {
   "cell_type": "code",
   "execution_count": 23,
   "metadata": {},
   "outputs": [],
   "source": [
    "# Reducing the number of zeros for the 2 entries as they are recorded incorrectly.\n",
    "df['price(in lakhs)'] = df['price(in lakhs)'].apply(lambda x: x/10000 if x > 1000 else x)"
   ]
  },
  {
   "cell_type": "code",
   "execution_count": 24,
   "metadata": {},
   "outputs": [
    {
     "data": {
      "text/html": [
       "<div>\n",
       "<style scoped>\n",
       "    .dataframe tbody tr th:only-of-type {\n",
       "        vertical-align: middle;\n",
       "    }\n",
       "\n",
       "    .dataframe tbody tr th {\n",
       "        vertical-align: top;\n",
       "    }\n",
       "\n",
       "    .dataframe thead th {\n",
       "        text-align: right;\n",
       "    }\n",
       "</style>\n",
       "<table border=\"1\" class=\"dataframe\">\n",
       "  <thead>\n",
       "    <tr style=\"text-align: right;\">\n",
       "      <th></th>\n",
       "      <th>car_name</th>\n",
       "      <th>mileage(kmpl)</th>\n",
       "      <th>engine(cc)</th>\n",
       "    </tr>\n",
       "  </thead>\n",
       "  <tbody>\n",
       "    <tr>\n",
       "      <th>272</th>\n",
       "      <td>2022 Mercedes-Benz GLS 400d 4MATIC</td>\n",
       "      <td>2925.0</td>\n",
       "      <td>3.258640e+12</td>\n",
       "    </tr>\n",
       "    <tr>\n",
       "      <th>425</th>\n",
       "      <td>2023 Mercedes-Benz GLS 400d 4MATIC BSVI</td>\n",
       "      <td>2925.0</td>\n",
       "      <td>3.258640e+12</td>\n",
       "    </tr>\n",
       "    <tr>\n",
       "      <th>531</th>\n",
       "      <td>2021 Mercedes-Benz GLS 400d 4MATIC BSVI</td>\n",
       "      <td>2925.0</td>\n",
       "      <td>3.258640e+12</td>\n",
       "    </tr>\n",
       "    <tr>\n",
       "      <th>1024</th>\n",
       "      <td>2020 Mercedes-Benz GLS 400d 4MATIC BSVI</td>\n",
       "      <td>2925.0</td>\n",
       "      <td>3.258640e+12</td>\n",
       "    </tr>\n",
       "    <tr>\n",
       "      <th>533</th>\n",
       "      <td>2015 Mercedes-Benz M-Class ML 350 4Matic</td>\n",
       "      <td>2987.0</td>\n",
       "      <td>1.652244e+09</td>\n",
       "    </tr>\n",
       "    <tr>\n",
       "      <th>...</th>\n",
       "      <td>...</td>\n",
       "      <td>...</td>\n",
       "      <td>...</td>\n",
       "    </tr>\n",
       "    <tr>\n",
       "      <th>988</th>\n",
       "      <td>2013 Hyundai Grand i10 Magna</td>\n",
       "      <td>1197.0</td>\n",
       "      <td>8.200000e+01</td>\n",
       "    </tr>\n",
       "    <tr>\n",
       "      <th>995</th>\n",
       "      <td>2017 Volkswagen Polo 1.2 MPI Trendline</td>\n",
       "      <td>1198.0</td>\n",
       "      <td>7.400000e+01</td>\n",
       "    </tr>\n",
       "    <tr>\n",
       "      <th>111</th>\n",
       "      <td>2011 Ford Figo Petrol EXI</td>\n",
       "      <td>1196.0</td>\n",
       "      <td>7.000000e+01</td>\n",
       "    </tr>\n",
       "    <tr>\n",
       "      <th>840</th>\n",
       "      <td>2015 Hyundai Grand i10 CRDi Magna</td>\n",
       "      <td>1120.0</td>\n",
       "      <td>7.000000e+01</td>\n",
       "    </tr>\n",
       "    <tr>\n",
       "      <th>1053</th>\n",
       "      <td>2010 Maruti Wagon R LXI Minor</td>\n",
       "      <td>1061.0</td>\n",
       "      <td>6.700000e+01</td>\n",
       "    </tr>\n",
       "  </tbody>\n",
       "</table>\n",
       "<p>1104 rows × 3 columns</p>\n",
       "</div>"
      ],
      "text/plain": [
       "                                      car_name  mileage(kmpl)    engine(cc)\n",
       "272         2022 Mercedes-Benz GLS 400d 4MATIC         2925.0  3.258640e+12\n",
       "425    2023 Mercedes-Benz GLS 400d 4MATIC BSVI         2925.0  3.258640e+12\n",
       "531    2021 Mercedes-Benz GLS 400d 4MATIC BSVI         2925.0  3.258640e+12\n",
       "1024   2020 Mercedes-Benz GLS 400d 4MATIC BSVI         2925.0  3.258640e+12\n",
       "533   2015 Mercedes-Benz M-Class ML 350 4Matic         2987.0  1.652244e+09\n",
       "...                                        ...            ...           ...\n",
       "988               2013 Hyundai Grand i10 Magna         1197.0  8.200000e+01\n",
       "995     2017 Volkswagen Polo 1.2 MPI Trendline         1198.0  7.400000e+01\n",
       "111                  2011 Ford Figo Petrol EXI         1196.0  7.000000e+01\n",
       "840          2015 Hyundai Grand i10 CRDi Magna         1120.0  7.000000e+01\n",
       "1053             2010 Maruti Wagon R LXI Minor         1061.0  6.700000e+01\n",
       "\n",
       "[1104 rows x 3 columns]"
      ]
     },
     "execution_count": 24,
     "metadata": {},
     "output_type": "execute_result"
    }
   ],
   "source": [
    "# Displaying the data set sorted accourding to the engine and mileage columns\n",
    "df[['car_name', 'mileage(kmpl)', 'engine(cc)']].sort_values(by = ['engine(cc)', 'mileage(kmpl)'], ascending = False)"
   ]
  },
  {
   "cell_type": "markdown",
   "metadata": {},
   "source": [
    "The values in columns \"engine(cc)\" and \"mileage(kmpl)\" appear to be swapped. As it is impossible for a car to have mileage of 2925 and an engine capacity of 3.258640e+12. So the values of the engine column were double checked from the [website](https://www.cardekho.com/).\n",
    "\n",
    "However, the actual values of the mileage coud not be obtained and it is dificult to reduce the digit count as it is unique to each car based on its usage."
   ]
  },
  {
   "cell_type": "code",
   "execution_count": 25,
   "metadata": {},
   "outputs": [],
   "source": [
    "# Swapping values between columns.\n",
    "mask = df[df['mileage(kmpl)'] > 100].index\n",
    "temp_values = df.loc[mask, ['mileage(kmpl)', 'engine(cc)']].copy()\n",
    "df.loc[mask, 'engine(cc)'] = temp_values['mileage(kmpl)']\n",
    "df.drop(columns = 'mileage(kmpl)', inplace = True)"
   ]
  },
  {
   "cell_type": "code",
   "execution_count": 26,
   "metadata": {},
   "outputs": [
    {
     "data": {
      "text/html": [
       "<div>\n",
       "<style scoped>\n",
       "    .dataframe tbody tr th:only-of-type {\n",
       "        vertical-align: middle;\n",
       "    }\n",
       "\n",
       "    .dataframe tbody tr th {\n",
       "        vertical-align: top;\n",
       "    }\n",
       "\n",
       "    .dataframe thead th {\n",
       "        text-align: right;\n",
       "    }\n",
       "</style>\n",
       "<table border=\"1\" class=\"dataframe\">\n",
       "  <thead>\n",
       "    <tr style=\"text-align: right;\">\n",
       "      <th></th>\n",
       "      <th>car_name</th>\n",
       "      <th>torque(Nm)</th>\n",
       "    </tr>\n",
       "  </thead>\n",
       "  <tbody>\n",
       "    <tr>\n",
       "      <th>753</th>\n",
       "      <td>2011 Honda City 1.5 S MT</td>\n",
       "      <td>1186600.0</td>\n",
       "    </tr>\n",
       "    <tr>\n",
       "      <th>1063</th>\n",
       "      <td>2010 Honda City 1.5 V MT</td>\n",
       "      <td>1186600.0</td>\n",
       "    </tr>\n",
       "    <tr>\n",
       "      <th>543</th>\n",
       "      <td>2017 Honda City 1.5 V MT Exclusive</td>\n",
       "      <td>1186600.0</td>\n",
       "    </tr>\n",
       "    <tr>\n",
       "      <th>879</th>\n",
       "      <td>2011 Hyundai i20 1.4 CRDi Asta</td>\n",
       "      <td>904000.0</td>\n",
       "    </tr>\n",
       "    <tr>\n",
       "      <th>275</th>\n",
       "      <td>2012 Hyundai i20 Magna</td>\n",
       "      <td>805200.0</td>\n",
       "    </tr>\n",
       "    <tr>\n",
       "      <th>...</th>\n",
       "      <td>...</td>\n",
       "      <td>...</td>\n",
       "    </tr>\n",
       "    <tr>\n",
       "      <th>221</th>\n",
       "      <td>2017 Volkswagen Polo GT TSI Sport Edition</td>\n",
       "      <td>1035.0</td>\n",
       "    </tr>\n",
       "    <tr>\n",
       "      <th>716</th>\n",
       "      <td>2015 Volkswagen Vento 1.2 TSI Highline AT</td>\n",
       "      <td>1032.0</td>\n",
       "    </tr>\n",
       "    <tr>\n",
       "      <th>480</th>\n",
       "      <td>2019 Maruti XL6 Alpha</td>\n",
       "      <td>1032.0</td>\n",
       "    </tr>\n",
       "    <tr>\n",
       "      <th>609</th>\n",
       "      <td>2019 Maruti XL6 Alpha AT</td>\n",
       "      <td>1032.0</td>\n",
       "    </tr>\n",
       "    <tr>\n",
       "      <th>614</th>\n",
       "      <td>2016 Volkswagen Vento 1.6 Highline</td>\n",
       "      <td>1032.0</td>\n",
       "    </tr>\n",
       "  </tbody>\n",
       "</table>\n",
       "<p>627 rows × 2 columns</p>\n",
       "</div>"
      ],
      "text/plain": [
       "                                       car_name  torque(Nm)\n",
       "753                    2011 Honda City 1.5 S MT   1186600.0\n",
       "1063                   2010 Honda City 1.5 V MT   1186600.0\n",
       "543          2017 Honda City 1.5 V MT Exclusive   1186600.0\n",
       "879              2011 Hyundai i20 1.4 CRDi Asta    904000.0\n",
       "275                      2012 Hyundai i20 Magna    805200.0\n",
       "...                                         ...         ...\n",
       "221   2017 Volkswagen Polo GT TSI Sport Edition      1035.0\n",
       "716   2015 Volkswagen Vento 1.2 TSI Highline AT      1032.0\n",
       "480                       2019 Maruti XL6 Alpha      1032.0\n",
       "609                    2019 Maruti XL6 Alpha AT      1032.0\n",
       "614          2016 Volkswagen Vento 1.6 Highline      1032.0\n",
       "\n",
       "[627 rows x 2 columns]"
      ]
     },
     "execution_count": 26,
     "metadata": {},
     "output_type": "execute_result"
    }
   ],
   "source": [
    "# Displaying the values of torque that are inconsistant\n",
    "df[['car_name', 'torque(Nm)']][df['torque(Nm)'] / 1000 > 1].sort_values(by = 'torque(Nm)', ascending = False)"
   ]
  },
  {
   "cell_type": "markdown",
   "metadata": {},
   "source": [
    "As you can see, these values are too large for torque. However after heavy inspection it was **not** found what those values represent. <br>\n",
    "In addition, droping the values would result in a large lose of data. <br>\n",
    "For this reason, it was a good choice to drop the column entirely."
   ]
  },
  {
   "cell_type": "code",
   "execution_count": 27,
   "metadata": {},
   "outputs": [],
   "source": [
    "# Droping column torque\n",
    "df.drop(columns = 'torque(Nm)', inplace = True)"
   ]
  },
  {
   "cell_type": "code",
   "execution_count": 28,
   "metadata": {},
   "outputs": [
    {
     "data": {
      "text/plain": [
       "810       2007\n",
       "56        2009\n",
       "911       2009\n",
       "743       2009\n",
       "678       2010\n",
       "         ...  \n",
       "1039    Sep-22\n",
       "337     Sep-23\n",
       "83      Sep-23\n",
       "108     Sep-23\n",
       "318     Sep-23\n",
       "Name: registration_year, Length: 1104, dtype: object"
      ]
     },
     "execution_count": 28,
     "metadata": {},
     "output_type": "execute_result"
    }
   ],
   "source": [
    "# Displaying values of registration year column.\n",
    "df['registration_year'].sort_values()"
   ]
  },
  {
   "cell_type": "markdown",
   "metadata": {},
   "source": [
    "As shown above, the column does not have consistent values. \n",
    "The month cannot be added for the rows that don't have them as this information was not found. \n",
    "Also, removing the months would result in redundant values as there exist a column with manufacturing year."
   ]
  },
  {
   "cell_type": "code",
   "execution_count": 29,
   "metadata": {},
   "outputs": [],
   "source": [
    "# Droping registration year coulmn.\n",
    "df.drop(columns = 'registration_year', inplace = True)"
   ]
  },
  {
   "cell_type": "markdown",
   "metadata": {},
   "source": [
    "The car prices are in Rupees Lakhs. As mentioned earlier, this translates to 100,000 Rupees. <br>\n",
    "Thecode cell below converts the prices to Euro."
   ]
  },
  {
   "cell_type": "code",
   "execution_count": 30,
   "metadata": {},
   "outputs": [],
   "source": [
    "# Converting lakhs to euro\n",
    "df['price(euro)'] = df['price(in lakhs)'] * 1100.73"
   ]
  },
  {
   "cell_type": "markdown",
   "metadata": {},
   "source": [
    "#### Exploratory data analysis\n",
    "\n",
    "A number of graphs were ploted to see the distribution of the data to understand and explain the results of the model."
   ]
  },
  {
   "cell_type": "code",
   "execution_count": 31,
   "metadata": {},
   "outputs": [
    {
     "data": {
      "text/plain": [
       "Text(0, 0.5, 'Price (1000 euro)')"
      ]
     },
     "execution_count": 31,
     "metadata": {},
     "output_type": "execute_result"
    },
    {
     "data": {
      "image/png": "[encoded data removed]",
      "text/plain": [
       "<Figure size 640x480 with 1 Axes>"
      ]
     },
     "metadata": {},
     "output_type": "display_data"
    }
   ],
   "source": [
    "# Ploting price of cars against engine size\n",
    "plt.scatter(df['engine(cc)'] / 1000, df['price(euro)'] / 1000, s = 20)\n",
    "plt.style.use('seaborn-v0_8-dark')\n",
    "plt.title(\"Price verses engine size\")\n",
    "plt.xlabel(\"Engine size (1000 cc)\")\n",
    "plt.ylabel('Price (1000 euro)')"
   ]
  },
  {
   "cell_type": "markdown",
   "metadata": {},
   "source": [
    "The graph above shows that the distribution of engine size is concentrated in the range 1000 - 3000 cc. <br>\n",
    "Price is spread on the whole spectrum.\n",
    "\n",
    "As a general point of view, the larger the engine size, the higher the price gets. However, up to a 3000 cc some prices drop to the extremely low range. This seemed counter intuitive. <br>\n",
    "As it turns out, the cars that are above 3000 and some times 2000 cc with prices in lakhs in the single digit value they are actually in crore and not lakh. This means the price is actually in 10,000,000 Rupees instead of 100,000. So after the conversion they turned out to be extrmely cheap while they belong to the luxurious category of vehicles.\n",
    "\n",
    "All that being said, the problem cannot be solved easily as the not only the engine size and the price can determine this car is in lakh or crore, but also the manufacturer of the vehicle and some common sense. And this in python is not easily solved."
   ]
  },
  {
   "cell_type": "code",
   "execution_count": 32,
   "metadata": {},
   "outputs": [
    {
     "data": {
      "text/plain": [
       "Text(0.5, 1.0, 'Box Plot of Manufacturing year')"
      ]
     },
     "execution_count": 32,
     "metadata": {},
     "output_type": "execute_result"
    },
    {
     "data": {
      "image/png": "[encoded data removed]",
      "text/plain": [
       "<Figure size 640x480 with 1 Axes>"
      ]
     },
     "metadata": {},
     "output_type": "display_data"
    }
   ],
   "source": [
    "# Ploting manufacturing year.\n",
    "sns.boxplot(df['manufacturing_year'])\n",
    "sns.set_theme(style=\"whitegrid\")\n",
    "plt.ylabel(\"Year of manufacturing\")\n",
    "plt.title(\"Box Plot of Manufacturing year\")"
   ]
  },
  {
   "cell_type": "markdown",
   "metadata": {},
   "source": [
    "The box plot above displays the manufacturing year of the vehicles. <br>\n",
    "It is noted that most of the cars are new as the data is positivly skewed in terms of manufacturing year. <br>\n",
    "This might make the prediction to be closer to the price of new cars which in turn over estimate the price."
   ]
  },
  {
   "cell_type": "code",
   "execution_count": 33,
   "metadata": {},
   "outputs": [
    {
     "data": {
      "text/plain": [
       "Text(0.5, 1.0, 'Box Plot of distance driven')"
      ]
     },
     "execution_count": 33,
     "metadata": {},
     "output_type": "execute_result"
    },
    {
     "data": {
      "image/png": "[encoded data removed]",
      "text/plain": [
       "<Figure size 640x480 with 1 Axes>"
      ]
     },
     "metadata": {},
     "output_type": "display_data"
    }
   ],
   "source": [
    "# Ploting distance driven.\n",
    "sns.boxplot(df['kms_driven'])\n",
    "plt.ylabel(\"Distance driven(Km)\")\n",
    "plt.title(\"Box Plot of distance driven\")"
   ]
  },
  {
   "cell_type": "code",
   "execution_count": 34,
   "metadata": {},
   "outputs": [
    {
     "data": {
      "text/plain": [
       "Text(0.5, 1.0, 'Box Plot of engine capacity')"
      ]
     },
     "execution_count": 34,
     "metadata": {},
     "output_type": "execute_result"
    },
    {
     "data": {
      "image/png": "[encoded data removed]",
      "text/plain": [
       "<Figure size 640x480 with 1 Axes>"
      ]
     },
     "metadata": {},
     "output_type": "display_data"
    }
   ],
   "source": [
    "# Ploting the engine size.\n",
    "sns.boxplot(df['engine(cc)'])\n",
    "plt.ylabel(\"Engine Capacity (cc)\")\n",
    "plt.title(\"Box Plot of engine capacity\")"
   ]
  },
  {
   "cell_type": "code",
   "execution_count": 35,
   "metadata": {},
   "outputs": [
    {
     "data": {
      "text/plain": [
       "Text(0.5, 1.0, 'Box Plot of vehicle price')"
      ]
     },
     "execution_count": 35,
     "metadata": {},
     "output_type": "execute_result"
    },
    {
     "data": {
      "image/png": "[encoded data removed]",
      "text/plain": [
       "<Figure size 640x480 with 1 Axes>"
      ]
     },
     "metadata": {},
     "output_type": "display_data"
    }
   ],
   "source": [
    "# Ploting prices.\n",
    "sns.boxplot(df['price(euro)'])\n",
    "plt.ylabel(\"Vehicle price (euro)\")\n",
    "plt.title(\"Box Plot of vehicle price\")"
   ]
  },
  {
   "cell_type": "markdown",
   "metadata": {},
   "source": [
    "In the above 3 plot above, it is noted that the data a lot of outliers. <br>\n",
    "This have to be dealt with because it will affect the prediction."
   ]
  },
  {
   "cell_type": "code",
   "execution_count": 36,
   "metadata": {},
   "outputs": [],
   "source": [
    "# Removing outliers\n",
    "min_threshold1, max_threshold1 = df['kms_driven'].quantile([0.001,0.999])\n",
    "min_threshold2, max_threshold2 = df['engine(cc)'].quantile([0.001,0.999])\n",
    "min_threshold3, max_threshold3 = df['price(euro)'].quantile([0.001,0.999])\n",
    "\n",
    "df = df[(df['kms_driven']<max_threshold1)&(df['kms_driven']>=min_threshold1)]\n",
    "df = df[(df['engine(cc)']<max_threshold2)&(df['engine(cc)']>=min_threshold2)]\n",
    "df = df[(df['price(euro)']<max_threshold3)&(df['price(euro)']>=min_threshold3)]\n",
    "df.reset_index(drop=True,inplace=True)"
   ]
  },
  {
   "cell_type": "code",
   "execution_count": 37,
   "metadata": {},
   "outputs": [
    {
     "data": {
      "image/png": "[encoded data removed]",
      "text/plain": [
       "<Figure size 800x550 with 1 Axes>"
      ]
     },
     "metadata": {},
     "output_type": "display_data"
    }
   ],
   "source": [
    "# Ploting the fuel type\n",
    "plt.style.use('seaborn-v0_8')\n",
    "plt.bar(df['fuel_type'].unique(), df['fuel_type'].value_counts(), color = 'green')\n",
    "# plt.grid(axis='y', linestyle='--', alpha=0.9)\n",
    "plt.title('Fuel types count')\n",
    "plt.xlabel('Fuel Types')\n",
    "plt.ylabel('Vehicle count')\n",
    "plt.show()"
   ]
  },
  {
   "cell_type": "markdown",
   "metadata": {},
   "source": [
    "It is shown in the plot above that most of the data is _Petrol_. This might be a problem for later as the prediction will be biased to Petrol cars. <br> \n",
    "And equating the data accourding to fuel type is not possible as the CNG has very few entries. <br><br>\n",
    "Note: CNG fuel is Compressed Natural Gas."
   ]
  },
  {
   "cell_type": "code",
   "execution_count": 38,
   "metadata": {},
   "outputs": [
    {
     "data": {
      "image/png": "[encoded data removed]",
      "text/plain": [
       "<Figure size 800x550 with 1 Axes>"
      ]
     },
     "metadata": {},
     "output_type": "display_data"
    }
   ],
   "source": [
    "# Ploting number of seats.\n",
    "plt.bar(df['seats'].unique(), df['seats'].value_counts(), color = 'orange')\n",
    "plt.title('Seats count')\n",
    "plt.xlabel('Number of seats')\n",
    "plt.ylabel('Vehicle count')\n",
    "plt.show()"
   ]
  },
  {
   "cell_type": "markdown",
   "metadata": {},
   "source": [
    "In terms of seats, the majority of the data is 5 seats. This will cause a bias toward the 5 seater vehicles. "
   ]
  },
  {
   "cell_type": "code",
   "execution_count": 48,
   "metadata": {},
   "outputs": [
    {
     "data": {
      "application/vnd.plotly.v1+json": {
       "config": {
        "linkText": "Export to plot.ly",
        "plotlyServerURL": "https://plot.ly",
        "showLink": false
       },
       "data": [
        {
         "labels": [
          "First Owner",
          "Second Owner",
          "Third Owner"
         ],
         "type": "pie",
         "values": [
          909,
          166,
          17
         ]
        }
       ],
       "layout": {
        "height": 400,
        "template": {
         "data": {
          "bar": [
           {
            "error_x": {
             "color": "#2a3f5f"
            },
            "error_y": {
             "color": "#2a3f5f"
            },
            "marker": {
             "line": {
              "color": "#E5ECF6",
              "width": 0.5
             },
             "pattern": {
              "fillmode": "overlay",
              "size": 10,
              "solidity": 0.2
             }
            },
            "type": "bar"
           }
          ],
          "barpolar": [
           {
            "marker": {
             "line": {
              "color": "#E5ECF6",
              "width": 0.5
             },
             "pattern": {
              "fillmode": "overlay",
              "size": 10,
              "solidity": 0.2
             }
            },
            "type": "barpolar"
           }
          ],
          "carpet": [
           {
            "aaxis": {
             "endlinecolor": "#2a3f5f",
             "gridcolor": "white",
             "linecolor": "white",
             "minorgridcolor": "white",
             "startlinecolor": "#2a3f5f"
            },
            "baxis": {
             "endlinecolor": "#2a3f5f",
             "gridcolor": "white",
             "linecolor": "white",
             "minorgridcolor": "white",
             "startlinecolor": "#2a3f5f"
            },
            "type": "carpet"
           }
          ],
          "choropleth": [
           {
            "colorbar": {
             "outlinewidth": 0,
             "ticks": ""
            },
            "type": "choropleth"
           }
          ],
          "contour": [
           {
            "colorbar": {
             "outlinewidth": 0,
             "ticks": ""
            },
            "colorscale": [
             [
              0,
              "#0d0887"
             ],
             [
              0.1111111111111111,
              "#46039f"
             ],
             [
              0.2222222222222222,
              "#7201a8"
             ],
             [
              0.3333333333333333,
              "#9c179e"
             ],
             [
              0.4444444444444444,
              "#bd3786"
             ],
             [
              0.5555555555555556,
              "#d8576b"
             ],
             [
              0.6666666666666666,
              "#ed7953"
             ],
             [
              0.7777777777777778,
              "#fb9f3a"
             ],
             [
              0.8888888888888888,
              "#fdca26"
             ],
             [
              1,
              "#f0f921"
             ]
            ],
            "type": "contour"
           }
          ],
          "contourcarpet": [
           {
            "colorbar": {
             "outlinewidth": 0,
             "ticks": ""
            },
            "type": "contourcarpet"
           }
          ],
          "heatmap": [
           {
            "colorbar": {
             "outlinewidth": 0,
             "ticks": ""
            },
            "colorscale": [
             [
              0,
              "#0d0887"
             ],
             [
              0.1111111111111111,
              "#46039f"
             ],
             [
              0.2222222222222222,
              "#7201a8"
             ],
             [
              0.3333333333333333,
              "#9c179e"
             ],
             [
              0.4444444444444444,
              "#bd3786"
             ],
             [
              0.5555555555555556,
              "#d8576b"
             ],
             [
              0.6666666666666666,
              "#ed7953"
             ],
             [
              0.7777777777777778,
              "#fb9f3a"
             ],
             [
              0.8888888888888888,
              "#fdca26"
             ],
             [
              1,
              "#f0f921"
             ]
            ],
            "type": "heatmap"
           }
          ],
          "heatmapgl": [
           {
            "colorbar": {
             "outlinewidth": 0,
             "ticks": ""
            },
            "colorscale": [
             [
              0,
              "#0d0887"
             ],
             [
              0.1111111111111111,
              "#46039f"
             ],
             [
              0.2222222222222222,
              "#7201a8"
             ],
             [
              0.3333333333333333,
              "#9c179e"
             ],
             [
              0.4444444444444444,
              "#bd3786"
             ],
             [
              0.5555555555555556,
              "#d8576b"
             ],
             [
              0.6666666666666666,
              "#ed7953"
             ],
             [
              0.7777777777777778,
              "#fb9f3a"
             ],
             [
              0.8888888888888888,
              "#fdca26"
             ],
             [
              1,
              "#f0f921"
             ]
            ],
            "type": "heatmapgl"
           }
          ],
          "histogram": [
           {
            "marker": {
             "pattern": {
              "fillmode": "overlay",
              "size": 10,
              "solidity": 0.2
             }
            },
            "type": "histogram"
           }
          ],
          "histogram2d": [
           {
            "colorbar": {
             "outlinewidth": 0,
             "ticks": ""
            },
            "colorscale": [
             [
              0,
              "#0d0887"
             ],
             [
              0.1111111111111111,
              "#46039f"
             ],
             [
              0.2222222222222222,
              "#7201a8"
             ],
             [
              0.3333333333333333,
              "#9c179e"
             ],
             [
              0.4444444444444444,
              "#bd3786"
             ],
             [
              0.5555555555555556,
              "#d8576b"
             ],
             [
              0.6666666666666666,
              "#ed7953"
             ],
             [
              0.7777777777777778,
              "#fb9f3a"
             ],
             [
              0.8888888888888888,
              "#fdca26"
             ],
             [
              1,
              "#f0f921"
             ]
            ],
            "type": "histogram2d"
           }
          ],
          "histogram2dcontour": [
           {
            "colorbar": {
             "outlinewidth": 0,
             "ticks": ""
            },
            "colorscale": [
             [
              0,
              "#0d0887"
             ],
             [
              0.1111111111111111,
              "#46039f"
             ],
             [
              0.2222222222222222,
              "#7201a8"
             ],
             [
              0.3333333333333333,
              "#9c179e"
             ],
             [
              0.4444444444444444,
              "#bd3786"
             ],
             [
              0.5555555555555556,
              "#d8576b"
             ],
             [
              0.6666666666666666,
              "#ed7953"
             ],
             [
              0.7777777777777778,
              "#fb9f3a"
             ],
             [
              0.8888888888888888,
              "#fdca26"
             ],
             [
              1,
              "#f0f921"
             ]
            ],
            "type": "histogram2dcontour"
           }
          ],
          "mesh3d": [
           {
            "colorbar": {
             "outlinewidth": 0,
             "ticks": ""
            },
            "type": "mesh3d"
           }
          ],
          "parcoords": [
           {
            "line": {
             "colorbar": {
              "outlinewidth": 0,
              "ticks": ""
             }
            },
            "type": "parcoords"
           }
          ],
          "pie": [
           {
            "automargin": true,
            "type": "pie"
           }
          ],
          "scatter": [
           {
            "fillpattern": {
             "fillmode": "overlay",
             "size": 10,
             "solidity": 0.2
            },
            "type": "scatter"
           }
          ],
          "scatter3d": [
           {
            "line": {
             "colorbar": {
              "outlinewidth": 0,
              "ticks": ""
             }
            },
            "marker": {
             "colorbar": {
              "outlinewidth": 0,
              "ticks": ""
             }
            },
            "type": "scatter3d"
           }
          ],
          "scattercarpet": [
           {
            "marker": {
             "colorbar": {
              "outlinewidth": 0,
              "ticks": ""
             }
            },
            "type": "scattercarpet"
           }
          ],
          "scattergeo": [
           {
            "marker": {
             "colorbar": {
              "outlinewidth": 0,
              "ticks": ""
             }
            },
            "type": "scattergeo"
           }
          ],
          "scattergl": [
           {
            "marker": {
             "colorbar": {
              "outlinewidth": 0,
              "ticks": ""
             }
            },
            "type": "scattergl"
           }
          ],
          "scattermapbox": [
           {
            "marker": {
             "colorbar": {
              "outlinewidth": 0,
              "ticks": ""
             }
            },
            "type": "scattermapbox"
           }
          ],
          "scatterpolar": [
           {
            "marker": {
             "colorbar": {
              "outlinewidth": 0,
              "ticks": ""
             }
            },
            "type": "scatterpolar"
           }
          ],
          "scatterpolargl": [
           {
            "marker": {
             "colorbar": {
              "outlinewidth": 0,
              "ticks": ""
             }
            },
            "type": "scatterpolargl"
           }
          ],
          "scatterternary": [
           {
            "marker": {
             "colorbar": {
              "outlinewidth": 0,
              "ticks": ""
             }
            },
            "type": "scatterternary"
           }
          ],
          "surface": [
           {
            "colorbar": {
             "outlinewidth": 0,
             "ticks": ""
            },
            "colorscale": [
             [
              0,
              "#0d0887"
             ],
             [
              0.1111111111111111,
              "#46039f"
             ],
             [
              0.2222222222222222,
              "#7201a8"
             ],
             [
              0.3333333333333333,
              "#9c179e"
             ],
             [
              0.4444444444444444,
              "#bd3786"
             ],
             [
              0.5555555555555556,
              "#d8576b"
             ],
             [
              0.6666666666666666,
              "#ed7953"
             ],
             [
              0.7777777777777778,
              "#fb9f3a"
             ],
             [
              0.8888888888888888,
              "#fdca26"
             ],
             [
              1,
              "#f0f921"
             ]
            ],
            "type": "surface"
           }
          ],
          "table": [
           {
            "cells": {
             "fill": {
              "color": "#EBF0F8"
             },
             "line": {
              "color": "white"
             }
            },
            "header": {
             "fill": {
              "color": "#C8D4E3"
             },
             "line": {
              "color": "white"
             }
            },
            "type": "table"
           }
          ]
         },
         "layout": {
          "annotationdefaults": {
           "arrowcolor": "#2a3f5f",
           "arrowhead": 0,
           "arrowwidth": 1
          },
          "autotypenumbers": "strict",
          "coloraxis": {
           "colorbar": {
            "outlinewidth": 0,
            "ticks": ""
           }
          },
          "colorscale": {
           "diverging": [
            [
             0,
             "#8e0152"
            ],
            [
             0.1,
             "#c51b7d"
            ],
            [
             0.2,
             "#de77ae"
            ],
            [
             0.3,
             "#f1b6da"
            ],
            [
             0.4,
             "#fde0ef"
            ],
            [
             0.5,
             "#f7f7f7"
            ],
            [
             0.6,
             "#e6f5d0"
            ],
            [
             0.7,
             "#b8e186"
            ],
            [
             0.8,
             "#7fbc41"
            ],
            [
             0.9,
             "#4d9221"
            ],
            [
             1,
             "#276419"
            ]
           ],
           "sequential": [
            [
             0,
             "#0d0887"
            ],
            [
             0.1111111111111111,
             "#46039f"
            ],
            [
             0.2222222222222222,
             "#7201a8"
            ],
            [
             0.3333333333333333,
             "#9c179e"
            ],
            [
             0.4444444444444444,
             "#bd3786"
            ],
            [
             0.5555555555555556,
             "#d8576b"
            ],
            [
             0.6666666666666666,
             "#ed7953"
            ],
            [
             0.7777777777777778,
             "#fb9f3a"
            ],
            [
             0.8888888888888888,
             "#fdca26"
            ],
            [
             1,
             "#f0f921"
            ]
           ],
           "sequentialminus": [
            [
             0,
             "#0d0887"
            ],
            [
             0.1111111111111111,
             "#46039f"
            ],
            [
             0.2222222222222222,
             "#7201a8"
            ],
            [
             0.3333333333333333,
             "#9c179e"
            ],
            [
             0.4444444444444444,
             "#bd3786"
            ],
            [
             0.5555555555555556,
             "#d8576b"
            ],
            [
             0.6666666666666666,
             "#ed7953"
            ],
            [
             0.7777777777777778,
             "#fb9f3a"
            ],
            [
             0.8888888888888888,
             "#fdca26"
            ],
            [
             1,
             "#f0f921"
            ]
           ]
          },
          "colorway": [
           "#636efa",
           "#EF553B",
           "#00cc96",
           "#ab63fa",
           "#FFA15A",
           "#19d3f3",
           "#FF6692",
           "#B6E880",
           "#FF97FF",
           "#FECB52"
          ],
          "font": {
           "color": "#2a3f5f"
          },
          "geo": {
           "bgcolor": "white",
           "lakecolor": "white",
           "landcolor": "#E5ECF6",
           "showlakes": true,
           "showland": true,
           "subunitcolor": "white"
          },
          "hoverlabel": {
           "align": "left"
          },
          "hovermode": "closest",
          "mapbox": {
           "style": "light"
          },
          "paper_bgcolor": "white",
          "plot_bgcolor": "#E5ECF6",
          "polar": {
           "angularaxis": {
            "gridcolor": "white",
            "linecolor": "white",
            "ticks": ""
           },
           "bgcolor": "#E5ECF6",
           "radialaxis": {
            "gridcolor": "white",
            "linecolor": "white",
            "ticks": ""
           }
          },
          "scene": {
           "xaxis": {
            "backgroundcolor": "#E5ECF6",
            "gridcolor": "white",
            "gridwidth": 2,
            "linecolor": "white",
            "showbackground": true,
            "ticks": "",
            "zerolinecolor": "white"
           },
           "yaxis": {
            "backgroundcolor": "#E5ECF6",
            "gridcolor": "white",
            "gridwidth": 2,
            "linecolor": "white",
            "showbackground": true,
            "ticks": "",
            "zerolinecolor": "white"
           },
           "zaxis": {
            "backgroundcolor": "#E5ECF6",
            "gridcolor": "white",
            "gridwidth": 2,
            "linecolor": "white",
            "showbackground": true,
            "ticks": "",
            "zerolinecolor": "white"
           }
          },
          "shapedefaults": {
           "line": {
            "color": "#2a3f5f"
           }
          },
          "ternary": {
           "aaxis": {
            "gridcolor": "white",
            "linecolor": "white",
            "ticks": ""
           },
           "baxis": {
            "gridcolor": "white",
            "linecolor": "white",
            "ticks": ""
           },
           "bgcolor": "#E5ECF6",
           "caxis": {
            "gridcolor": "white",
            "linecolor": "white",
            "ticks": ""
           }
          },
          "title": {
           "x": 0.05
          },
          "xaxis": {
           "automargin": true,
           "gridcolor": "white",
           "linecolor": "white",
           "ticks": "",
           "title": {
            "standoff": 15
           },
           "zerolinecolor": "white",
           "zerolinewidth": 2
          },
          "yaxis": {
           "automargin": true,
           "gridcolor": "white",
           "linecolor": "white",
           "ticks": "",
           "title": {
            "standoff": 15
           },
           "zerolinecolor": "white",
           "zerolinewidth": 2
          }
         }
        },
        "title": {
         "text": "Ownership categories"
        },
        "width": 500
       }
      },
      "text/html": [
       "<div>                            <div id=\"a37b9e56-ecd4-4509-80f4-ff46bd73351b\" class=\"plotly-graph-div\" style=\"height:400px; width:500px;\"></div>            <script type=\"text/javascript\">                require([\"plotly\"], function(Plotly) {                    window.PLOTLYENV=window.PLOTLYENV || {};                                    if (document.getElementById(\"a37b9e56-ecd4-4509-80f4-ff46bd73351b\")) {                    Plotly.newPlot(                        \"a37b9e56-ecd4-4509-80f4-ff46bd73351b\",                        [{\"labels\":[\"First Owner\",\"Second Owner\",\"Third Owner\"],\"values\":[909,166,17],\"type\":\"pie\"}],                        {\"height\":400,\"template\":{\"data\":{\"barpolar\":[{\"marker\":{\"line\":{\"color\":\"#E5ECF6\",\"width\":0.5},\"pattern\":{\"fillmode\":\"overlay\",\"size\":10,\"solidity\":0.2}},\"type\":\"barpolar\"}],\"bar\":[{\"error_x\":{\"color\":\"#2a3f5f\"},\"error_y\":{\"color\":\"#2a3f5f\"},\"marker\":{\"line\":{\"color\":\"#E5ECF6\",\"width\":0.5},\"pattern\":{\"fillmode\":\"overlay\",\"size\":10,\"solidity\":0.2}},\"type\":\"bar\"}],\"carpet\":[{\"aaxis\":{\"endlinecolor\":\"#2a3f5f\",\"gridcolor\":\"white\",\"linecolor\":\"white\",\"minorgridcolor\":\"white\",\"startlinecolor\":\"#2a3f5f\"},\"baxis\":{\"endlinecolor\":\"#2a3f5f\",\"gridcolor\":\"white\",\"linecolor\":\"white\",\"minorgridcolor\":\"white\",\"startlinecolor\":\"#2a3f5f\"},\"type\":\"carpet\"}],\"choropleth\":[{\"colorbar\":{\"outlinewidth\":0,\"ticks\":\"\"},\"type\":\"choropleth\"}],\"contourcarpet\":[{\"colorbar\":{\"outlinewidth\":0,\"ticks\":\"\"},\"type\":\"contourcarpet\"}],\"contour\":[{\"colorbar\":{\"outlinewidth\":0,\"ticks\":\"\"},\"colorscale\":[[0.0,\"#0d0887\"],[0.1111111111111111,\"#46039f\"],[0.2222222222222222,\"#7201a8\"],[0.3333333333333333,\"#9c179e\"],[0.4444444444444444,\"#bd3786\"],[0.5555555555555556,\"#d8576b\"],[0.6666666666666666,\"#ed7953\"],[0.7777777777777778,\"#fb9f3a\"],[0.8888888888888888,\"#fdca26\"],[1.0,\"#f0f921\"]],\"type\":\"contour\"}],\"heatmapgl\":[{\"colorbar\":{\"outlinewidth\":0,\"ticks\":\"\"},\"colorscale\":[[0.0,\"#0d0887\"],[0.1111111111111111,\"#46039f\"],[0.2222222222222222,\"#7201a8\"],[0.3333333333333333,\"#9c179e\"],[0.4444444444444444,\"#bd3786\"],[0.5555555555555556,\"#d8576b\"],[0.6666666666666666,\"#ed7953\"],[0.7777777777777778,\"#fb9f3a\"],[0.8888888888888888,\"#fdca26\"],[1.0,\"#f0f921\"]],\"type\":\"heatmapgl\"}],\"heatmap\":[{\"colorbar\":{\"outlinewidth\":0,\"ticks\":\"\"},\"colorscale\":[[0.0,\"#0d0887\"],[0.1111111111111111,\"#46039f\"],[0.2222222222222222,\"#7201a8\"],[0.3333333333333333,\"#9c179e\"],[0.4444444444444444,\"#bd3786\"],[0.5555555555555556,\"#d8576b\"],[0.6666666666666666,\"#ed7953\"],[0.7777777777777778,\"#fb9f3a\"],[0.8888888888888888,\"#fdca26\"],[1.0,\"#f0f921\"]],\"type\":\"heatmap\"}],\"histogram2dcontour\":[{\"colorbar\":{\"outlinewidth\":0,\"ticks\":\"\"},\"colorscale\":[[0.0,\"#0d0887\"],[0.1111111111111111,\"#46039f\"],[0.2222222222222222,\"#7201a8\"],[0.3333333333333333,\"#9c179e\"],[0.4444444444444444,\"#bd3786\"],[0.5555555555555556,\"#d8576b\"],[0.6666666666666666,\"#ed7953\"],[0.7777777777777778,\"#fb9f3a\"],[0.8888888888888888,\"#fdca26\"],[1.0,\"#f0f921\"]],\"type\":\"histogram2dcontour\"}],\"histogram2d\":[{\"colorbar\":{\"outlinewidth\":0,\"ticks\":\"\"},\"colorscale\":[[0.0,\"#0d0887\"],[0.1111111111111111,\"#46039f\"],[0.2222222222222222,\"#7201a8\"],[0.3333333333333333,\"#9c179e\"],[0.4444444444444444,\"#bd3786\"],[0.5555555555555556,\"#d8576b\"],[0.6666666666666666,\"#ed7953\"],[0.7777777777777778,\"#fb9f3a\"],[0.8888888888888888,\"#fdca26\"],[1.0,\"#f0f921\"]],\"type\":\"histogram2d\"}],\"histogram\":[{\"marker\":{\"pattern\":{\"fillmode\":\"overlay\",\"size\":10,\"solidity\":0.2}},\"type\":\"histogram\"}],\"mesh3d\":[{\"colorbar\":{\"outlinewidth\":0,\"ticks\":\"\"},\"type\":\"mesh3d\"}],\"parcoords\":[{\"line\":{\"colorbar\":{\"outlinewidth\":0,\"ticks\":\"\"}},\"type\":\"parcoords\"}],\"pie\":[{\"automargin\":true,\"type\":\"pie\"}],\"scatter3d\":[{\"line\":{\"colorbar\":{\"outlinewidth\":0,\"ticks\":\"\"}},\"marker\":{\"colorbar\":{\"outlinewidth\":0,\"ticks\":\"\"}},\"type\":\"scatter3d\"}],\"scattercarpet\":[{\"marker\":{\"colorbar\":{\"outlinewidth\":0,\"ticks\":\"\"}},\"type\":\"scattercarpet\"}],\"scattergeo\":[{\"marker\":{\"colorbar\":{\"outlinewidth\":0,\"ticks\":\"\"}},\"type\":\"scattergeo\"}],\"scattergl\":[{\"marker\":{\"colorbar\":{\"outlinewidth\":0,\"ticks\":\"\"}},\"type\":\"scattergl\"}],\"scattermapbox\":[{\"marker\":{\"colorbar\":{\"outlinewidth\":0,\"ticks\":\"\"}},\"type\":\"scattermapbox\"}],\"scatterpolargl\":[{\"marker\":{\"colorbar\":{\"outlinewidth\":0,\"ticks\":\"\"}},\"type\":\"scatterpolargl\"}],\"scatterpolar\":[{\"marker\":{\"colorbar\":{\"outlinewidth\":0,\"ticks\":\"\"}},\"type\":\"scatterpolar\"}],\"scatter\":[{\"fillpattern\":{\"fillmode\":\"overlay\",\"size\":10,\"solidity\":0.2},\"type\":\"scatter\"}],\"scatterternary\":[{\"marker\":{\"colorbar\":{\"outlinewidth\":0,\"ticks\":\"\"}},\"type\":\"scatterternary\"}],\"surface\":[{\"colorbar\":{\"outlinewidth\":0,\"ticks\":\"\"},\"colorscale\":[[0.0,\"#0d0887\"],[0.1111111111111111,\"#46039f\"],[0.2222222222222222,\"#7201a8\"],[0.3333333333333333,\"#9c179e\"],[0.4444444444444444,\"#bd3786\"],[0.5555555555555556,\"#d8576b\"],[0.6666666666666666,\"#ed7953\"],[0.7777777777777778,\"#fb9f3a\"],[0.8888888888888888,\"#fdca26\"],[1.0,\"#f0f921\"]],\"type\":\"surface\"}],\"table\":[{\"cells\":{\"fill\":{\"color\":\"#EBF0F8\"},\"line\":{\"color\":\"white\"}},\"header\":{\"fill\":{\"color\":\"#C8D4E3\"},\"line\":{\"color\":\"white\"}},\"type\":\"table\"}]},\"layout\":{\"annotationdefaults\":{\"arrowcolor\":\"#2a3f5f\",\"arrowhead\":0,\"arrowwidth\":1},\"autotypenumbers\":\"strict\",\"coloraxis\":{\"colorbar\":{\"outlinewidth\":0,\"ticks\":\"\"}},\"colorscale\":{\"diverging\":[[0,\"#8e0152\"],[0.1,\"#c51b7d\"],[0.2,\"#de77ae\"],[0.3,\"#f1b6da\"],[0.4,\"#fde0ef\"],[0.5,\"#f7f7f7\"],[0.6,\"#e6f5d0\"],[0.7,\"#b8e186\"],[0.8,\"#7fbc41\"],[0.9,\"#4d9221\"],[1,\"#276419\"]],\"sequential\":[[0.0,\"#0d0887\"],[0.1111111111111111,\"#46039f\"],[0.2222222222222222,\"#7201a8\"],[0.3333333333333333,\"#9c179e\"],[0.4444444444444444,\"#bd3786\"],[0.5555555555555556,\"#d8576b\"],[0.6666666666666666,\"#ed7953\"],[0.7777777777777778,\"#fb9f3a\"],[0.8888888888888888,\"#fdca26\"],[1.0,\"#f0f921\"]],\"sequentialminus\":[[0.0,\"#0d0887\"],[0.1111111111111111,\"#46039f\"],[0.2222222222222222,\"#7201a8\"],[0.3333333333333333,\"#9c179e\"],[0.4444444444444444,\"#bd3786\"],[0.5555555555555556,\"#d8576b\"],[0.6666666666666666,\"#ed7953\"],[0.7777777777777778,\"#fb9f3a\"],[0.8888888888888888,\"#fdca26\"],[1.0,\"#f0f921\"]]},\"colorway\":[\"#636efa\",\"#EF553B\",\"#00cc96\",\"#ab63fa\",\"#FFA15A\",\"#19d3f3\",\"#FF6692\",\"#B6E880\",\"#FF97FF\",\"#FECB52\"],\"font\":{\"color\":\"#2a3f5f\"},\"geo\":{\"bgcolor\":\"white\",\"lakecolor\":\"white\",\"landcolor\":\"#E5ECF6\",\"showlakes\":true,\"showland\":true,\"subunitcolor\":\"white\"},\"hoverlabel\":{\"align\":\"left\"},\"hovermode\":\"closest\",\"mapbox\":{\"style\":\"light\"},\"paper_bgcolor\":\"white\",\"plot_bgcolor\":\"#E5ECF6\",\"polar\":{\"angularaxis\":{\"gridcolor\":\"white\",\"linecolor\":\"white\",\"ticks\":\"\"},\"bgcolor\":\"#E5ECF6\",\"radialaxis\":{\"gridcolor\":\"white\",\"linecolor\":\"white\",\"ticks\":\"\"}},\"scene\":{\"xaxis\":{\"backgroundcolor\":\"#E5ECF6\",\"gridcolor\":\"white\",\"gridwidth\":2,\"linecolor\":\"white\",\"showbackground\":true,\"ticks\":\"\",\"zerolinecolor\":\"white\"},\"yaxis\":{\"backgroundcolor\":\"#E5ECF6\",\"gridcolor\":\"white\",\"gridwidth\":2,\"linecolor\":\"white\",\"showbackground\":true,\"ticks\":\"\",\"zerolinecolor\":\"white\"},\"zaxis\":{\"backgroundcolor\":\"#E5ECF6\",\"gridcolor\":\"white\",\"gridwidth\":2,\"linecolor\":\"white\",\"showbackground\":true,\"ticks\":\"\",\"zerolinecolor\":\"white\"}},\"shapedefaults\":{\"line\":{\"color\":\"#2a3f5f\"}},\"ternary\":{\"aaxis\":{\"gridcolor\":\"white\",\"linecolor\":\"white\",\"ticks\":\"\"},\"baxis\":{\"gridcolor\":\"white\",\"linecolor\":\"white\",\"ticks\":\"\"},\"bgcolor\":\"#E5ECF6\",\"caxis\":{\"gridcolor\":\"white\",\"linecolor\":\"white\",\"ticks\":\"\"}},\"title\":{\"x\":0.05},\"xaxis\":{\"automargin\":true,\"gridcolor\":\"white\",\"linecolor\":\"white\",\"ticks\":\"\",\"title\":{\"standoff\":15},\"zerolinecolor\":\"white\",\"zerolinewidth\":2},\"yaxis\":{\"automargin\":true,\"gridcolor\":\"white\",\"linecolor\":\"white\",\"ticks\":\"\",\"title\":{\"standoff\":15},\"zerolinecolor\":\"white\",\"zerolinewidth\":2}}},\"title\":{\"text\":\"Ownership categories\"},\"width\":500},                        {\"responsive\": true}                    ).then(function(){\n",
       "                            \n",
       "var gd = document.getElementById('a37b9e56-ecd4-4509-80f4-ff46bd73351b');\n",
       "var x = new MutationObserver(function (mutations, observer) {{\n",
       "        var display = window.getComputedStyle(gd).display;\n",
       "        if (!display || display === 'none') {{\n",
       "            console.log([gd, 'removed!']);\n",
       "            Plotly.purge(gd);\n",
       "            observer.disconnect();\n",
       "        }}\n",
       "}});\n",
       "\n",
       "// Listen for the removal of the full notebook cells\n",
       "var notebookContainer = gd.closest('#notebook-container');\n",
       "if (notebookContainer) {{\n",
       "    x.observe(notebookContainer, {childList: true});\n",
       "}}\n",
       "\n",
       "// Listen for the clearing of the current output cell\n",
       "var outputEl = gd.closest('.output');\n",
       "if (outputEl) {{\n",
       "    x.observe(outputEl, {childList: true});\n",
       "}}\n",
       "\n",
       "                        })                };                });            </script>        </div>"
      ]
     },
     "metadata": {},
     "output_type": "display_data"
    }
   ],
   "source": [
    "# Ploting Ownership categories.\n",
    "fig = go.Figure(data=[go.Pie(labels=df['ownership'].unique(), values=df['ownership'].value_counts())])\n",
    "\n",
    "fig.update_layout(title_text='Ownership categories',\n",
    "                  width=500,\n",
    "                  height=400)\n",
    "pyo.iplot(fig)"
   ]
  },
  {
   "cell_type": "markdown",
   "metadata": {},
   "source": [
    "The majority of the ownership is first owner. And the fifth owner is barely visible. Resulting yet in another bias."
   ]
  },
  {
   "cell_type": "markdown",
   "metadata": {},
   "source": [
    "## Machine learning Models\n",
    "\n",
    "Below is 3 regression models that are applied on the dataset for the purpose of predicting the price of a car based no the features explored earlier. <br>\n",
    "The models are predicting the price in Euro."
   ]
  },
  {
   "cell_type": "code",
   "execution_count": 40,
   "metadata": {},
   "outputs": [],
   "source": [
    "# Preparing X and Y values\n",
    "X = df.drop(columns=['price(in lakhs)', 'price(euro)', 'car_name'])\n",
    "Y = df['price(euro)']"
   ]
  },
  {
   "cell_type": "code",
   "execution_count": 41,
   "metadata": {},
   "outputs": [],
   "source": [
    "# Encoding categorical features using onehot encoder\n",
    "encoder = ce.OneHotEncoder(cols=['insurance_validity', 'fuel_type', 'ownership', 'transmission'])\n",
    "X_transformed = encoder.fit_transform(X)\n",
    "\n",
    "# Standardizing the data\n",
    "scaler = StandardScaler()\n",
    "X_transformed = scaler.fit_transform(X_transformed)\n",
    "X_transformed = pd.DataFrame(X_transformed)\n"
   ]
  },
  {
   "cell_type": "code",
   "execution_count": 42,
   "metadata": {},
   "outputs": [],
   "source": [
    "# selecting best featues that describe the data\n",
    "k=8\n",
    "selector = SelectKBest(f_regression,k=k)\n",
    "selector.fit(X_transformed, Y)\n",
    "best_feats = selector.get_support(indices=True)\n",
    "xTrain_best = X_transformed.iloc[:,best_feats]"
   ]
  },
  {
   "cell_type": "code",
   "execution_count": 43,
   "metadata": {},
   "outputs": [],
   "source": [
    "# Splitting the data \n",
    "X_train, X_test, y_train, y_test = train_test_split(xTrain_best, Y, test_size=0.2, random_state=5)"
   ]
  },
  {
   "cell_type": "code",
   "execution_count": 44,
   "metadata": {},
   "outputs": [
    {
     "name": "stdout",
     "output_type": "stream",
     "text": [
      "Actual value          Predicted value\n",
      "\n",
      "12108.03              26519.71773353313\n",
      "5228.4675              4083.761968235107\n",
      "10952.2635              18781.608592849017\n",
      "7143.737700000001              16168.844564365983\n",
      "4524.000300000001              3289.5284661290516\n",
      "9356.205              12198.303266300545\n",
      "8255.475              14049.617737105054\n",
      "4171.7667              1587.9186143222869\n",
      "7374.8910000000005              11370.093954955022\n",
      "--------------------------------------------------\n",
      "Evaluation metrics: \n",
      "Mean Squared Error: 177542124.73445678\n",
      "R-squared: 0.462117192665492\n"
     ]
    }
   ],
   "source": [
    "# Applying a linear regression model\n",
    "\n",
    "model = LinearRegression()\n",
    "model.fit(X_train, y_train)\n",
    "y_pred = model.predict(X_test)\n",
    "\n",
    "# Printing the actual and predicted values\n",
    "print(\"Actual value\", \"         Predicted value\\n\")\n",
    "i = 1\n",
    "while i < 10:\n",
    "    print(y_test.values[i],\"            \", y_pred[i])  \n",
    "    i += 1\n",
    "print(\"-\" *50)\n",
    "print(\"Evaluation metrics: \")\n",
    "\n",
    "\n",
    "mse = mean_squared_error(y_test, y_pred)\n",
    "r2 = r2_score(y_test, y_pred)\n",
    "\n",
    "print(f'Mean Squared Error: {mse}')\n",
    "print(f'R-squared: {r2}')"
   ]
  },
  {
   "cell_type": "markdown",
   "metadata": {},
   "source": [
    "The MSE is extremely high. <br>\n",
    "The R squared shows the prediction is weakly represented. <br>\n",
    "And as expected, most of the predicted values are over estimated as stated above in the graph of manufacturing year.<br>\n",
    "This means this model is not good. However, more than one option of choosing best features were chosen, outliers removed, data cleaned, and a number of variations of encoding was applied on the data. And still there were no significant imporovment.\n",
    "\n",
    "This may lead to the conclusion that this model cannot be represented in linear model. A possible cause is the high number of categorical data."
   ]
  },
  {
   "cell_type": "code",
   "execution_count": 45,
   "metadata": {},
   "outputs": [
    {
     "name": "stdout",
     "output_type": "stream",
     "text": [
      "Polynomial degree 1:\n",
      "\n",
      "Mean Squared Error: 177542124.73445678\n",
      "R-squared: 0.462117192665492\n",
      "--------------------\n",
      "Polynomial degree 5:\n",
      "\n",
      "Mean Squared Error: 177542124.73445678\n",
      "R-squared: 0.462117192665492\n",
      "--------------------\n",
      "Polynomial degree 10:\n",
      "\n",
      "Mean Squared Error: 177542124.73445678\n",
      "R-squared: 0.462117192665492\n",
      "--------------------\n"
     ]
    }
   ],
   "source": [
    "# Applying a polynomial regression model\n",
    "degrees = [1, 5, 10]\n",
    "for i in degrees:\n",
    "    poly_reg2=PolynomialFeatures(degree=i)\n",
    "\n",
    "    # transforming feature X into X^2\n",
    "    X_poly=poly_reg2.fit_transform(X_train)\n",
    "\n",
    "    # creating a linear regression handler\n",
    "    lin_reg_2=LinearRegression()\n",
    "\n",
    "    # applying linear regression to the transformed X^2 space\n",
    "    # this is equivalent to fitting a polynomial of degree 2 to the orginal X space\n",
    "    lin_reg_2.fit(X_poly,y_train)\n",
    "    y_pred2 = model.predict(X_test)\n",
    "\n",
    "    mse = mean_squared_error(y_test, y_pred2)\n",
    "    r2 = r2_score(y_test, y_pred2)\n",
    "    print(f\"Polynomial degree {i}:\\n\")\n",
    "\n",
    "    print(f'Mean Squared Error: {mse}')\n",
    "    print(f'R-squared: {r2}')\n",
    "    print(\"-\" * 20)"
   ]
  },
  {
   "cell_type": "markdown",
   "metadata": {},
   "source": [
    "Same exact numbers are obtained using polynomial regression. <br>\n",
    "This might indicate that the data cannot be represented in higher degrees of polynomial regression.\n",
    "\n",
    "A different model is applied below in an attempt to predict the prices more accurately."
   ]
  },
  {
   "cell_type": "code",
   "execution_count": 46,
   "metadata": {},
   "outputs": [
    {
     "name": "stdout",
     "output_type": "stream",
     "text": [
      "Best Parameters: {'C': 1000, 'epsilon': 2, 'gamma': 0.1}\n",
      "Mean Squared Error (MSE): 175253949.4730392\n",
      "R-squared (R2): 0.46904946372581335\n"
     ]
    }
   ],
   "source": [
    "import numpy as np\n",
    "from sklearn.svm import SVR\n",
    "import matplotlib.pyplot as plt\n",
    "\n",
    "\n",
    "from sklearn.model_selection import GridSearchCV\n",
    "\n",
    "param_grid = {'C': [1, 10, 100, 1000],\n",
    "              'gamma': ['auto', 0.1, 0.01, 0.001],\n",
    "              'epsilon': [0.1, 0.5, 1, 2]}\n",
    "\n",
    "grid_search = GridSearchCV(SVR(kernel='rbf'), param_grid, cv=5)\n",
    "\n",
    "grid_search.fit(X_train, y_train)\n",
    "\n",
    "best_params = grid_search.best_params_\n",
    "print(f\"Best Parameters: {best_params}\")\n",
    "\n",
    "best_svr = SVR(kernel='rbf', C=best_params['C'], gamma=best_params['gamma'], epsilon=best_params['epsilon'])\n",
    "best_svr.fit(X_train, y_train)\n",
    "y_pred3 = best_svr.predict(X_test)\n",
    "\n",
    "\n",
    "mse = mean_squared_error(y_test, y_pred3)\n",
    "print(f\"Mean Squared Error (MSE): {mse}\")\n",
    "\n",
    "r2 = r2_score(y_test, y_pred3)\n",
    "print(f\"R-squared (R2): {r2}\")"
   ]
  },
  {
   "cell_type": "markdown",
   "metadata": {},
   "source": [
    "The SVR (Support Vector Regression) with RBF kernel is used with different parameters. <br>\n",
    "A grid search method was used to find the best parameters for the model and the same MSE and r squared were obtained. <br>\n",
    "This indicates that even this algorithm cannot represent the data nor predict the price.\n",
    "\n",
    "It is worth mentioning that due to this algorithm, the standard encoding was added. As it was adviced to standardise the data before a SVM (support Vector Machine) model is used for optimum results. And infact it did help, it raised the r sqaured from -0.16 to 0.37. However it remained a bad model for this data and cannot be counted on for price prediction accoring to this dataset."
   ]
  },
  {
   "cell_type": "markdown",
   "metadata": {},
   "source": [
    "## Conclusion\n",
    "\n",
    "Despite the fact that 3 ML models were used on different parameters and degrees, it was not possible to come up with a model that predicts the price based on this dataset. because the MSE is very large and the r squared does not represent a strong relationship between the test set and the predicted set. <br>\n",
    "This might be due to the following reasons:\n",
    "\n",
    "1. Limited number of ML models were used.\n",
    "    \n",
    "    Although the dataset appears to be relatively large and having a large number of features, it was not suffiecent for the 3 regression models used above to make an acurate prediction. Perhaps if different models were used like KNN (K-Nearest Number) or Decision Tree were used, they might give better results.\n",
    "\n",
    "2. Not enough Data Cleaning.\n",
    "\n",
    "    Another possible senario is limited data cleaning techniques. This might be due to the limited time of the project to be finished or due to the limited experience of the implementer of the data cleaning techniques. <br>\n",
    "    Despite that, substantial effort was put into cleaning the data as mentioned above in detail. The data is so bad that even the auther himself has questioned his dataset  and felt confused after being asked about the problems his data have. Considerable number of data analysts online critisized the dataset and even some of them tried cleaning it only to post the cleaned version. <br>\n",
    "\n",
    "    As mentioned earlier, the dataset had so many problem including: \n",
    "\n",
    "    1. Swapped values.\n",
    "    2. values recorded with much more digits and zeros than actual values.\n",
    "    3. redundant columns.\n",
    "    4. price unit is not accurate.\n",
    "    5. filled with outliers.\n",
    "\n",
    "    After all, those problems were solved before implementing any model and it was made sure the data is clean both statistically and logically. On the other hard, some problems were discovered at a later stage, for instance, the incorret price unit that was *crore* instead of *lakh*, this alone can cause severe problems as the car would be predicted to have high price value according to its features but when compared to the test set it would result in a big difference and thus cause high error value.\n",
    "\n",
    "3. Categorical Features\n",
    "    One possible cause is the presence of large number of categorical features especially after data cleaning. This resutls in a high number of columns being encoded and transformed and thus not giving a good representation on the data.\n",
    "\n",
    "    \n",
    "At the end, it is highly likely that the dataset is the main responsible of the high errors the models produced and the problem was not the tuning nor the data cleaning process. However, other possible explainations are possible."
   ]
  }
 ],
 "metadata": {
  "kernelspec": {
   "display_name": "Python 3",
   "language": "python",
   "name": "python3"
  },
  "language_info": {
   "codemirror_mode": {
    "name": "ipython",
    "version": 3
   },
   "file_extension": ".py",
   "mimetype": "text/x-python",
   "name": "python",
   "nbconvert_exporter": "python",
   "pygments_lexer": "ipython3",
   "version": "3.11.7"
  }
 },
 "nbformat": 4,
 "nbformat_minor": 2
}
